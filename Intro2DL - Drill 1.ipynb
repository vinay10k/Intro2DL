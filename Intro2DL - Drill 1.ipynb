{
 "cells": [
  {
   "cell_type": "markdown",
   "id": "fd35e6b7",
   "metadata": {},
   "source": [
    "# Q1 - 7*7 matrix with values ranging from 0-6"
   ]
  },
  {
   "cell_type": "code",
   "execution_count": 11,
   "id": "76d41a0d",
   "metadata": {},
   "outputs": [
    {
     "name": "stdout",
     "output_type": "stream",
     "text": [
      "[[0 1 2 3 4 5 6]\n",
      " [0 1 2 3 4 5 6]\n",
      " [0 1 2 3 4 5 6]\n",
      " [0 1 2 3 4 5 6]\n",
      " [0 1 2 3 4 5 6]\n",
      " [0 1 2 3 4 5 6]\n",
      " [0 1 2 3 4 5 6]]\n"
     ]
    }
   ],
   "source": [
    "import numpy as np\n",
    "print(np.broadcast_to(np.arange(0, 7, dtype=int), (7,7)))"
   ]
  },
  {
   "cell_type": "markdown",
   "id": "00f58c08",
   "metadata": {},
   "source": [
    "# 7*7 Martrix with random values in range 0-6"
   ]
  },
  {
   "cell_type": "code",
   "execution_count": 12,
   "id": "9ebb081a",
   "metadata": {},
   "outputs": [],
   "source": [
    "#np.random.random_integers(0,7, size=(7,7))"
   ]
  },
  {
   "cell_type": "markdown",
   "id": "a5799e5c",
   "metadata": {},
   "source": [
    "# Q2"
   ]
  },
  {
   "cell_type": "code",
   "execution_count": 13,
   "id": "0c26bac9",
   "metadata": {},
   "outputs": [
    {
     "data": {
      "text/plain": [
       "array([[ 4,  8, 12],\n",
       "       [ 8, 12, 16],\n",
       "       [12, 16, 20],\n",
       "       [16, 20, 24],\n",
       "       [20, 24, 28],\n",
       "       [24, 28, 32]])"
      ]
     },
     "execution_count": 13,
     "metadata": {},
     "output_type": "execute_result"
    }
   ],
   "source": [
    "#Solution 1\n",
    "from numpy.lib.stride_tricks import sliding_window_view, as_strided\n",
    "sliding_window_view(np.arange(4,36,4), 3)"
   ]
  },
  {
   "cell_type": "code",
   "execution_count": 14,
   "id": "2b9d6136",
   "metadata": {},
   "outputs": [
    {
     "data": {
      "text/plain": [
       "array([[ 4,  8, 12],\n",
       "       [ 8, 12, 16],\n",
       "       [12, 16, 20],\n",
       "       [16, 20, 24],\n",
       "       [20, 24, 28],\n",
       "       [24, 28, 32]])"
      ]
     },
     "execution_count": 14,
     "metadata": {},
     "output_type": "execute_result"
    }
   ],
   "source": [
    "#Solution 2:\n",
    "as_strided(np.arange(4,36,4), shape=(6, 3), strides=(8, 8))"
   ]
  }
 ],
 "metadata": {
  "kernelspec": {
   "display_name": "Python 3 (ipykernel)",
   "language": "python",
   "name": "python3"
  },
  "language_info": {
   "codemirror_mode": {
    "name": "ipython",
    "version": 3
   },
   "file_extension": ".py",
   "mimetype": "text/x-python",
   "name": "python",
   "nbconvert_exporter": "python",
   "pygments_lexer": "ipython3",
   "version": "3.9.7"
  }
 },
 "nbformat": 4,
 "nbformat_minor": 5
}

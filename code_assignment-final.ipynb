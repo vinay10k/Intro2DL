{
 "cells": [
  {
   "cell_type": "markdown",
   "metadata": {},
   "source": [
    "# Question 8 - Code"
   ]
  },
  {
   "cell_type": "code",
   "execution_count": 188,
   "metadata": {},
   "outputs": [
    {
     "name": "stdout",
     "output_type": "stream",
     "text": [
      "      0       1         2            3             4             5   \\\n",
      "0  -20.0  400.00 -8000.000  160000.0000 -3.200000e+06  6.400000e+07   \n",
      "1  -19.9  396.01 -7880.599  156823.9201 -3.120796e+06  6.210384e+07   \n",
      "2  -19.8  392.04 -7762.392  153695.3616 -3.043168e+06  6.025473e+07   \n",
      "3  -19.7  388.09 -7645.373  150613.8481 -2.967093e+06  5.845173e+07   \n",
      "4  -19.6  384.16 -7529.536  147578.9056 -2.892547e+06  5.669391e+07   \n",
      "5  -19.5  380.25 -7414.875  144590.0625 -2.819506e+06  5.498037e+07   \n",
      "6  -19.4  376.36 -7301.384  141646.8496 -2.747949e+06  5.331021e+07   \n",
      "7  -19.3  372.49 -7189.057  138748.8001 -2.677852e+06  5.168254e+07   \n",
      "8  -19.2  368.64 -7077.888  135895.4496 -2.609193e+06  5.009650e+07   \n",
      "9  -19.1  364.81 -6967.871  133086.3361 -2.541949e+06  4.855123e+07   \n",
      "10 -19.0  361.00 -6859.000  130321.0000 -2.476099e+06  4.704588e+07   \n",
      "11 -18.9  357.21 -6751.269  127598.9841 -2.411621e+06  4.557963e+07   \n",
      "12 -18.8  353.44 -6644.672  124919.8336 -2.348493e+06  4.415167e+07   \n",
      "13 -18.7  349.69 -6539.203  122283.0961 -2.286694e+06  4.276118e+07   \n",
      "14 -18.6  345.96 -6434.856  119688.3216 -2.226203e+06  4.140737e+07   \n",
      "15 -18.5  342.25 -6331.625  117135.0625 -2.166999e+06  4.008948e+07   \n",
      "16 -18.4  338.56 -6229.504  114622.8736 -2.109061e+06  3.880672e+07   \n",
      "17 -18.3  334.89 -6128.487  112151.3121 -2.052369e+06  3.755835e+07   \n",
      "18 -18.2  331.24 -6028.568  109719.9376 -1.996903e+06  3.634363e+07   \n",
      "19 -18.1  327.61 -5929.741  107328.3121 -1.942642e+06  3.516183e+07   \n",
      "20 -18.0  324.00 -5832.000  104976.0000 -1.889568e+06  3.401222e+07   \n",
      "21 -17.9  320.41 -5735.339  102662.5681 -1.837660e+06  3.289411e+07   \n",
      "\n",
      "              6             7             8             9   ...            40  \\\n",
      "0  -1.280000e+09  2.560000e+10 -5.120000e+11  1.024000e+13  ... -2.199023e+53   \n",
      "1  -1.235866e+09  2.459374e+10 -4.894155e+11  9.739368e+12  ... -1.790507e+53   \n",
      "2  -1.193044e+09  2.362226e+10 -4.677208e+11  9.260872e+12  ... -1.456374e+53   \n",
      "3  -1.151499e+09  2.268453e+10 -4.468853e+11  8.803640e+12  ... -1.183356e+53   \n",
      "4  -1.111201e+09  2.177953e+10 -4.268789e+11  8.366826e+12  ... -9.605034e+52   \n",
      "5  -1.072117e+09  2.090629e+10 -4.076726e+11  7.949615e+12  ... -7.787877e+52   \n",
      "6  -1.034218e+09  2.006383e+10 -3.892383e+11  7.551223e+12  ... -6.307699e+52   \n",
      "7  -9.974730e+08  1.925123e+10 -3.715487e+11  7.170890e+12  ... -5.103283e+52   \n",
      "8  -9.618528e+08  1.846757e+10 -3.545774e+11  6.807886e+12  ... -4.124301e+52   \n",
      "9  -9.273284e+08  1.771197e+10 -3.382987e+11  6.461505e+12  ... -3.329416e+52   \n",
      "10 -8.938717e+08  1.698356e+10 -3.226877e+11  6.131066e+12  ... -2.684712e+52   \n",
      "11 -8.614551e+08  1.628150e+10 -3.077204e+11  5.815915e+12  ... -2.162390e+52   \n",
      "12 -8.300513e+08  1.560496e+10 -2.933733e+11  5.515419e+12  ... -1.739690e+52   \n",
      "13 -7.996340e+08  1.495316e+10 -2.796240e+11  5.228969e+12  ... -1.397996e+52   \n",
      "14 -7.701771e+08  1.432529e+10 -2.664505e+11  4.955979e+12  ... -1.122098e+52   \n",
      "15 -7.416553e+08  1.372062e+10 -2.538315e+11  4.695883e+12  ... -8.995822e+51   \n",
      "16 -7.140436e+08  1.313840e+10 -2.417466e+11  4.448138e+12  ... -7.203287e+51   \n",
      "17 -6.873179e+08  1.257792e+10 -2.301759e+11  4.212219e+12  ... -5.760958e+51   \n",
      "18 -6.614541e+08  1.203846e+10 -2.191001e+11  3.987621e+12  ... -4.601791e+51   \n",
      "19 -6.364291e+08  1.151937e+10 -2.085005e+11  3.773860e+12  ... -3.671314e+51   \n",
      "20 -6.122200e+08  1.101996e+10 -1.983593e+11  3.570467e+12  ... -2.925315e+51   \n",
      "21 -5.888046e+08  1.053960e+10 -1.886589e+11  3.376994e+12  ... -2.327953e+51   \n",
      "\n",
      "              41            42            43            44            45  \\\n",
      "0   4.398047e+54 -8.796093e+55  1.759219e+57 -3.518437e+58  7.036874e+59   \n",
      "1   3.563110e+54 -7.090589e+55  1.411027e+57 -2.807944e+58  5.587809e+59   \n",
      "2   2.883620e+54 -5.709567e+55  1.130494e+57 -2.238379e+58  4.431990e+59   \n",
      "3   2.331211e+54 -4.592485e+55  9.047195e+56 -1.782297e+58  3.511126e+59   \n",
      "4   1.882587e+54 -3.689870e+55  7.232145e+56 -1.417500e+58  2.778301e+59   \n",
      "5   1.518636e+54 -2.961340e+55  5.774613e+56 -1.126050e+58  2.195797e+59   \n",
      "6   1.223694e+54 -2.373965e+55  4.605493e+56 -8.934656e+57  1.733323e+59   \n",
      "7   9.849337e+53 -1.900922e+55  3.668779e+56 -7.080744e+57  1.366584e+59   \n",
      "8   7.918658e+53 -1.520382e+55  2.919134e+56 -5.604738e+57  1.076110e+59   \n",
      "9   6.359184e+53 -1.214604e+55  2.319894e+56 -4.430998e+57  8.463206e+58   \n",
      "10  5.100952e+53 -9.691809e+54  1.841444e+56 -3.498743e+57  6.647612e+58   \n",
      "11  4.086917e+53 -7.724272e+54  1.459887e+56 -2.759187e+57  5.214864e+58   \n",
      "12  3.270617e+53 -6.148760e+54  1.155967e+56 -2.173218e+57  4.085649e+58   \n",
      "13  2.614252e+53 -4.888652e+54  9.141778e+55 -1.709513e+57  3.196788e+58   \n",
      "14  2.087102e+53 -3.882010e+54  7.220538e+55 -1.343020e+57  2.498017e+58   \n",
      "15  1.664227e+53 -3.078820e+54  5.695817e+55 -1.053726e+57  1.949393e+58   \n",
      "16  1.325405e+53 -2.438745e+54  4.487291e+55 -8.256615e+56  1.519217e+58   \n",
      "17  1.054255e+53 -1.929287e+54  3.530595e+55 -6.460990e+56  1.182361e+58   \n",
      "18  8.375260e+52 -1.524297e+54  2.774221e+55 -5.049082e+56  9.189330e+57   \n",
      "19  6.645079e+52 -1.202759e+54  2.176994e+55 -3.940360e+56  7.132051e+57   \n",
      "20  5.265568e+52 -9.478022e+53  1.706044e+55 -3.070879e+56  5.527583e+57   \n",
      "21  4.167036e+52 -7.458995e+53  1.335160e+55 -2.389937e+56  4.277987e+57   \n",
      "\n",
      "              46            47            48            49  \n",
      "0  -1.407375e+61  2.814750e+62 -5.629500e+63  1.125900e+65  \n",
      "1  -1.111974e+61  2.212828e+62 -4.403528e+63  8.763020e+64  \n",
      "2  -8.775340e+60  1.737517e+62 -3.440284e+63  6.811763e+64  \n",
      "3  -6.916918e+60  1.362633e+62 -2.684387e+63  5.288242e+64  \n",
      "4  -5.445470e+60  1.067312e+62 -2.091932e+63  4.100186e+64  \n",
      "5  -4.281804e+60  8.349517e+61 -1.628156e+63  3.174904e+64  \n",
      "6  -3.362647e+60  6.523536e+61 -1.265566e+63  2.455198e+64  \n",
      "7  -2.637506e+60  5.090387e+61 -9.824448e+62  1.896118e+64  \n",
      "8  -2.066131e+60  3.966971e+61 -7.616583e+62  1.462384e+64  \n",
      "9  -1.616472e+60  3.087462e+61 -5.897053e+62  1.126337e+64  \n",
      "10 -1.263046e+60  2.399788e+61 -4.559597e+62  8.663234e+63  \n",
      "11 -9.856093e+59  1.862802e+61 -3.520695e+62  6.654114e+63  \n",
      "12 -7.681020e+59  1.444032e+61 -2.714780e+62  5.103786e+63  \n",
      "13 -5.977994e+59  1.117885e+61 -2.090445e+62  3.909132e+63  \n",
      "14 -4.646312e+59  8.642140e+60 -1.607438e+62  2.989835e+63  \n",
      "15 -3.606378e+59  6.671799e+60 -1.234283e+62  2.283423e+63  \n",
      "16 -2.795360e+59  5.143462e+60 -9.463969e+61  1.741370e+63  \n",
      "17 -2.163721e+59  3.959609e+60 -7.246085e+61  1.326033e+63  \n",
      "18 -1.672458e+59  3.043874e+60 -5.539850e+61  1.008253e+63  \n",
      "19 -1.290901e+59  2.336531e+60 -4.229122e+61  7.654710e+62  \n",
      "20 -9.949649e+58  1.790937e+60 -3.223686e+61  5.802635e+62  \n",
      "21 -7.657596e+58  1.370710e+60 -2.453570e+61  4.391891e+62  \n",
      "\n",
      "[22 rows x 50 columns]\n"
     ]
    }
   ],
   "source": [
    "import numpy as np\n",
    "\n",
    "y = np.arange(-20, 20.1, 0.1)\n",
    "\n",
    "y_new = np.reshape(y, (-1,1))\n",
    "\n",
    "p = np.arange(1,51)\n",
    "\n",
    "y_final = y_new ** p\n",
    "\n",
    "y_final.shape\n",
    "\n",
    "import pandas as pd\n",
    "print(pd.DataFrame(y_final).head(22))"
   ]
  },
  {
   "cell_type": "code",
   "execution_count": 190,
   "metadata": {},
   "outputs": [],
   "source": [
    "import random\n",
    "import numpy as np\n",
    "import pandas as pd\n",
    "from data_process import get_CIFAR10_data\n",
    "%matplotlib inline\n",
    "from save_submission import output_submission_csv"
   ]
  },
  {
   "cell_type": "code",
   "execution_count": 12,
   "metadata": {},
   "outputs": [
    {
     "name": "stdout",
     "output_type": "stream",
     "text": [
      "/Users/vinay/Downloads/CODE_ASSIGNMENT-2/code_masters\n"
     ]
    }
   ],
   "source": [
    "cd-"
   ]
  },
  {
   "cell_type": "markdown",
   "metadata": {},
   "source": [
    "# Loading CIFAR-10"
   ]
  },
  {
   "cell_type": "markdown",
   "metadata": {},
   "source": [
    "In the following cells we determine the number of images for each split and load the images.\n",
    "<br /> \n",
    "TRAIN_IMAGES + VAL_IMAGES = (0, 50000]\n",
    ", TEST_IMAGES = 10000"
   ]
  },
  {
   "cell_type": "code",
   "execution_count": 191,
   "metadata": {},
   "outputs": [],
   "source": [
    "# You can change these numbers for experimentation\n",
    "# For submission we will use the default values \n",
    "TRAIN_IMAGES = 40000\n",
    "VAL_IMAGES = 10000"
   ]
  },
  {
   "cell_type": "code",
   "execution_count": 192,
   "metadata": {},
   "outputs": [],
   "source": [
    "data = get_CIFAR10_data(TRAIN_IMAGES, VAL_IMAGES)\n",
    "X_train_CIFAR, y_train_CIFAR = data['X_train'], data['y_train']\n",
    "X_val_CIFAR, y_val_CIFAR = data['X_val'], data['y_val']\n",
    "X_test_CIFAR, y_test_CIFAR = data['X_test'], data['y_test']\n",
    "n_class_CIFAR = len(np.unique(y_test_CIFAR))"
   ]
  },
  {
   "cell_type": "code",
   "execution_count": 193,
   "metadata": {},
   "outputs": [
    {
     "name": "stderr",
     "output_type": "stream",
     "text": [
      "Clipping input data to the valid range for imshow with RGB data ([0..1] for floats or [0..255] for integers).\n"
     ]
    },
    {
     "data": {
      "image/png": "[encoded data removed]",
      "text/plain": [
       "<Figure size 432x288 with 1 Axes>"
      ]
     },
     "metadata": {
      "needs_background": "light"
     },
     "output_type": "display_data"
    }
   ],
   "source": [
    "import seaborn as sns\n",
    "import matplotlib.pyplot as plt\n",
    "img = X_train_CIFAR[0].T\n",
    "plt.imshow(img)\n",
    "plt.show()"
   ]
  },
  {
   "cell_type": "markdown",
   "metadata": {},
   "source": [
    "Convert the sets of images from dimensions of **(N, 3, 32, 32) -> (N, 3072)** where N is the number of images so that each **3x32x32** image is represented by a single vector."
   ]
  },
  {
   "cell_type": "code",
   "execution_count": 194,
   "metadata": {},
   "outputs": [],
   "source": [
    "X_train_CIFAR = np.reshape(X_train_CIFAR, (X_train_CIFAR.shape[0], -1))\n",
    "X_val_CIFAR = np.reshape(X_val_CIFAR, (X_val_CIFAR.shape[0], -1))\n",
    "X_test_CIFAR = np.reshape(X_test_CIFAR, (X_test_CIFAR.shape[0], -1))"
   ]
  },
  {
   "cell_type": "code",
   "execution_count": 195,
   "metadata": {},
   "outputs": [],
   "source": [
    "X_train_CIFAR = X_train_CIFAR.T\n",
    "X_val_CIFAR = X_val_CIFAR.T\n",
    "X_test_CIFAR = X_test_CIFAR.T\n",
    "#y_train_CIFAR.shape"
   ]
  },
  {
   "cell_type": "code",
   "execution_count": 196,
   "metadata": {},
   "outputs": [
    {
     "data": {
      "text/plain": [
       "(40000,)"
      ]
     },
     "execution_count": 196,
     "metadata": {},
     "output_type": "execute_result"
    }
   ],
   "source": [
    "#X_train_CIFAR.shape\n",
    "y_train_CIFAR.shape"
   ]
  },
  {
   "cell_type": "markdown",
   "metadata": {},
   "source": [
    "# Get Accuracy\n",
    "This function computes how well your model performs using accuracy as a metric.\n"
   ]
  },
  {
   "cell_type": "code",
   "execution_count": 81,
   "metadata": {},
   "outputs": [],
   "source": [
    "def get_acc(pred, y_test):\n",
    "    return np.sum(y_test==pred)/len(y_test)*100"
   ]
  },
  {
   "cell_type": "markdown",
   "metadata": {},
   "source": [
    "# Perceptron"
   ]
  },
  {
   "cell_type": "markdown",
   "metadata": {},
   "source": [
    "Perceptron has 2 hyperparameters that you can experiment with:\n",
    "- **Learning rate** - controls how much we change the current weights of the classifier during each update. We set it at a default value of 0.5, but you should experiment with different values. We recommend changing the learning rate by factors of 10 and observing how the performance of the classifier changes. You should also try adding a **decay** which slowly reduces the learning rate over each epoch.\n",
    "- **Number of Epochs** - An epoch is a complete iterative pass over all of the data in the dataset. During an epoch we predict a label using the classifier and then update the weights of the classifier according the perceptron update rule for each sample in the training set. You should try different values for the number of training epochs and report your results."
   ]
  },
  {
   "cell_type": "markdown",
   "metadata": {},
   "source": [
    "\n",
    "The following code: \n",
    "- Creates an instance of the Perceptron classifier class \n",
    "- The train function of the Perceptron class is trained on the training data\n",
    "- We use the predict function to find the training accuracy as well as the testing accuracy\n"
   ]
  },
  {
   "cell_type": "markdown",
   "metadata": {},
   "source": [
    "# Model Perceptron"
   ]
  },
  {
   "cell_type": "code",
   "execution_count": 197,
   "metadata": {},
   "outputs": [],
   "source": [
    "import numpy as np\n",
    "import math\n",
    "\n",
    "m,n = 50000, 3072\n",
    "\n",
    "\n",
    "class Perceptron:\n",
    "    def __init__(self, n_class: int, lr: float, epochs: int):\n",
    "        \"\"\"Initialize a new classifier.\n",
    "        Parameters:\n",
    "            n_class: the number of classes\n",
    "            lr: the learning rate\n",
    "            epochs: the number of epochs to train for\n",
    "        \"\"\"\n",
    "        #self.w = ###### TODO: change this\n",
    "        self.lr = 0.1 ###### TODO: change this\n",
    "        self.epochs = 500 ###### TODO: change this\n",
    "        self.n_class = 10 ###### TODO: change this\n",
    "        \n",
    "    def init_params(self):\n",
    "        W1 = np.random.rand(10, 3072) \n",
    "        b1 = np.random.rand(10, 1) \n",
    "        W2 = np.random.rand(10, 10) \n",
    "        b2 = np.random.rand(10, 1)\n",
    "        return W1, b1, W2, b2\n",
    "    \n",
    "    def sigmoid(self, x): \n",
    "        x = x / np.linalg.norm(x, axis=-1)[:, np.newaxis]\n",
    "        return 1 / (1 + np.exp(-x))\n",
    "   \n",
    "    def ReLU(self,Z):\n",
    "        return np.maximum(Z, 0)\n",
    "    \n",
    "    def ReLU_deriv(self,Z):\n",
    "        return Z > 0\n",
    "    \n",
    "    def softmax(self, Z):\n",
    "        Z = Z / np.linalg.norm(Z, axis=-1)[:, np.newaxis]\n",
    "        #b = x.max()\n",
    "        #y = np.exp(x - b)\n",
    "        #return y / y.sum()\n",
    "        #b = np.max(Z)\n",
    "        #print(b)\n",
    "        A = np.exp(Z) / np.sum(np.exp(Z), axis = 0)\n",
    "        return A\n",
    "    \n",
    "    def forward_prop(self, W1, b1, W2, b2, X):\n",
    "        Z1 = W1.dot(X) + b1\n",
    "        A1 = self.sigmoid(Z1)\n",
    "        Z2 = W2.dot(A1) + b2\n",
    "        A2 = self.softmax(Z2)\n",
    "        return Z1, A1, Z2, A2\n",
    "    \n",
    "    def d_sigmoid(self,x):\n",
    "        s = self.sigmoid(x)\n",
    "        return s * (1 - s)\n",
    "    \n",
    "    def one_hot(self,Y):\n",
    "        one_hot_Y = np.zeros((Y.size, Y.max() + 1))\n",
    "        one_hot_Y[np.arange(Y.size), Y] = 1\n",
    "        one_hot_Y = one_hot_Y.T\n",
    "        return one_hot_Y\n",
    "    \n",
    "    def backward_prop(self,Z1, A1, Z2, A2, W1, W2, X, Y):\n",
    "        one_hot_Y = self.one_hot(Y)\n",
    "        dZ2 = A2 - one_hot_Y\n",
    "        dW2 = 1 / m * dZ2.dot(A1.T)\n",
    "        db2 = 1 / m * np.sum(dZ2)\n",
    "        dZ1 = W2.T.dot(dZ2) * self.d_sigmoid(Z1)\n",
    "        dW1 = 1 / m * dZ1.dot(X.T)\n",
    "        db1 = 1 / m * np.sum(dZ1)\n",
    "        return dW1, db1, dW2, db2\n",
    "\n",
    "    def update_params(self,W1, b1, W2, b2, dW1, db1, dW2, db2, alpha):\n",
    "        W1 = W1 - alpha * dW1\n",
    "        b1 = b1 - alpha * db1    \n",
    "        W2 = W2 - alpha * dW2  \n",
    "        b2 = b2 - alpha * db2    \n",
    "        return W1, b1, W2, b2\n",
    "    \n",
    "    def get_predictions(self,A2):\n",
    "        return np.argmax(A2, 0)\n",
    "\n",
    "    def get_accuracy(self,predictions, Y):\n",
    "        print(predictions, Y)\n",
    "        return np.sum(predictions == Y) / Y.size\n",
    "\n",
    "    def gradient_descent(self,X, Y, alpha, iterations):\n",
    "        W1, b1, W2, b2 = self.init_params()\n",
    "        for i in range(iterations):\n",
    "            Z1, A1, Z2, A2 = self.forward_prop(W1, b1, W2, b2, X)\n",
    "            dW1, db1, dW2, db2 = self.backward_prop(Z1, A1, Z2, A2, W1, W2, X, Y)\n",
    "            W1, b1, W2, b2 = self.update_params(W1, b1, W2, b2, dW1, db1, dW2, db2, alpha)\n",
    "            if i % 100 == 0:\n",
    "                print(\"Iteration: \", i)\n",
    "                predictions = self.get_predictions(A2)\n",
    "                print(self.get_accuracy(predictions[0:20], Y[0:20]))\n",
    "        return W1, b1, W2, b2\n",
    "    \n",
    "    def make_predictions(self, X, W1, b1, W2, b2):\n",
    "        _, _, _, A2 = self.forward_prop(W1, b1, W2, b2, X)\n",
    "        predictions = self.get_predictions(A2)\n",
    "        return predictions\n",
    "\n",
    "    def train(self, X_train: np.ndarray, y_train: np.ndarray):\n",
    "        \"\"\"Train the classifier.\n",
    "        Use the perceptron update rule as introduced in Lecture 3.\n",
    "        Parameters:\n",
    "            X_train: a number array of shape (N, D) containing training data;\n",
    "                N examples with D dimensions\n",
    "            y_train: a numpy array of shape (N,) containing training labels\n",
    "        \"\"\"\n",
    "        N, D = X_train.shape\n",
    "        self.w = np.random.randn(self.n_class, D)\n",
    "\n",
    "        ###### YOUR CODE STARTS HERE ######\n",
    "        \n",
    "        \n",
    "        ###### YOUR CODE ENDS HERE ######\n",
    "        pass\n",
    "\n",
    "    def predict(self, X_test: np.ndarray) -> np.ndarray:\n",
    "        \"\"\"Use the trained weights to predict labels for test data points.\n",
    "        Parameters:\n",
    "            X_test: a numpy array of shape (N, D) containing testing data;\n",
    "                N examples with D dimensions\n",
    "        Returns:\n",
    "            predicted labels for the data in X_test; a 1-dimensional array of\n",
    "                length N, where each element is an integer giving the predicted\n",
    "                class.\n",
    "        \"\"\"\n",
    "        N, D = X_test.shape\n",
    "        y_test = np.zeros(N)\n",
    "        ###### YOUR CODE STARTS HERE ######\n",
    "        \n",
    "        \n",
    "        ###### YOUR CODE ENDS HERE ######\n",
    "        return y_test"
   ]
  },
  {
   "cell_type": "markdown",
   "metadata": {},
   "source": [
    "## Train Perceptron on CIFAR"
   ]
  },
  {
   "cell_type": "code",
   "execution_count": 198,
   "metadata": {},
   "outputs": [],
   "source": [
    "lr = 0.10\n",
    "n_epochs = 300\n",
    "\n",
    "percept_CIFAR = Perceptron(n_class_CIFAR, lr, n_epochs)\n",
    "percept_CIFAR.train(X_train_CIFAR, y_train_CIFAR)"
   ]
  },
  {
   "cell_type": "code",
   "execution_count": 202,
   "metadata": {},
   "outputs": [
    {
     "name": "stdout",
     "output_type": "stream",
     "text": [
      "Iteration:  0\n",
      "[2 0 0 2 2 2 3 9 0 2 2 0 0 2 2 0 0 2 0 6] [6 9 9 4 1 1 2 7 8 3 4 7 7 2 9 9 9 3 2 6]\n",
      "0.1\n",
      "Iteration:  100\n",
      "[3 8 9 3 9 6 9 3 8 6 3 9 9 3 6 8 9 3 9 3] [6 9 9 4 1 1 2 7 8 3 4 7 7 2 9 9 9 3 2 6]\n",
      "0.2\n",
      "Iteration:  200\n",
      "[3 8 9 3 9 6 9 3 8 6 3 9 9 3 6 8 9 3 9 3] [6 9 9 4 1 1 2 7 8 3 4 7 7 2 9 9 9 3 2 6]\n",
      "0.2\n"
     ]
    }
   ],
   "source": [
    "#W1, b1, W2, b2 = percept_CIFAR.init_params()\n",
    "W1, b1, W2, b2 = percept_CIFAR.gradient_descent(X_train_CIFAR, y_train_CIFAR, 0.1, 300)"
   ]
  },
  {
   "cell_type": "code",
   "execution_count": 419,
   "metadata": {},
   "outputs": [
    {
     "name": "stdout",
     "output_type": "stream",
     "text": [
      "[6 1 9 ... 6 6 8] [6 9 9 ... 6 2 8]\n",
      "The training accuracy is given by: 0.230450\n"
     ]
    }
   ],
   "source": [
    "pred_percept = percept_CIFAR.make_predictions(X_train_CIFAR, W1, b1, W2,b2)\n",
    "print('The training accuracy is given by: %f' % (percept_CIFAR.get_accuracy(pred_percept, y_train_CIFAR)))"
   ]
  },
  {
   "cell_type": "markdown",
   "metadata": {},
   "source": [
    "### Validate Perceptron on CIFAR"
   ]
  },
  {
   "cell_type": "code",
   "execution_count": 420,
   "metadata": {},
   "outputs": [
    {
     "name": "stdout",
     "output_type": "stream",
     "text": [
      "[8 9 6 ... 9 8 9] [1 8 5 ... 9 1 1]\n",
      "The validation accuracy is given by: 0.229200\n"
     ]
    }
   ],
   "source": [
    "#pred_percept = percept_CIFAR.predict(X_val_CIFAR)\n",
    "pred_percept = percept_CIFAR.make_predictions(X_val_CIFAR, W1, b1, W2,b2)\n",
    "print('The validation accuracy is given by: %f' % (percept_CIFAR.get_accuracy(pred_percept, y_val_CIFAR)))"
   ]
  },
  {
   "cell_type": "markdown",
   "metadata": {},
   "source": [
    "### Test Perceptron on CIFAR"
   ]
  },
  {
   "cell_type": "code",
   "execution_count": 421,
   "metadata": {},
   "outputs": [
    {
     "name": "stdout",
     "output_type": "stream",
     "text": [
      "[1 8 9 ... 6 5 2] [3 8 8 ... 5 1 7]\n",
      "The testing accuracy is given by: 0.225400\n"
     ]
    }
   ],
   "source": [
    "#pred_percept = percept_CIFAR.predict(X_test_CIFAR)\n",
    "pred_percept = percept_CIFAR.make_predictions(X_test_CIFAR, W1, b1, W2,b2)\n",
    "print('The testing accuracy is given by: %f' % (percept_CIFAR.get_accuracy(pred_percept, y_test_CIFAR)))"
   ]
  },
  {
   "cell_type": "code",
   "execution_count": 422,
   "metadata": {},
   "outputs": [],
   "source": [
    "output_submission_csv('output/Logistic_submission_CIFAR.csv', percept_CIFAR.make_predictions(X_test_CIFAR, W1, b1, W2,b2))"
   ]
  },
  {
   "cell_type": "code",
   "execution_count": 203,
   "metadata": {},
   "outputs": [
    {
     "name": "stdout",
     "output_type": "stream",
     "text": [
      "[[-11.21406357 -11.78636608 -11.36196327 ...  -7.56834684  -7.59687153\n",
      "   -6.93935082]\n",
      " [ 13.57416059  12.65174839  12.41624402 ...   7.27947691   7.94933754\n",
      "    8.70727979]\n",
      " [ -6.70405859  -7.04760649  -7.14564484 ...  -8.48014283  -9.00626848\n",
      "   -9.20176036]\n",
      " ...\n",
      " [ -8.29755954  -8.34232033  -8.38392656 ...   1.8192661    1.94478639\n",
      "    1.61436531]\n",
      " [  6.88007412   6.61176602   6.85998517 ...   4.96544125   5.65935087\n",
      "    5.62090773]\n",
      " [ -5.67041771  -5.93298387  -5.58096302 ...  -0.52091587  -0.56222367\n",
      "   -0.54264689]] [[0.2999621 ]\n",
      " [0.40607213]\n",
      " [0.89867707]\n",
      " [0.58226169]\n",
      " [0.98484278]\n",
      " [0.93450001]\n",
      " [0.29606003]\n",
      " [0.36394464]\n",
      " [0.58248334]\n",
      " [0.49155373]] [[ 0.31584263  0.39678317  0.02153293  0.29042804  0.29518918  0.44086653\n",
      "   0.59446156  0.61096509  0.49307123  0.84100518]\n",
      " [ 0.462843    0.82663057  0.30258412  0.42795132  0.08722559  0.54729296\n",
      "   0.71207545  0.94253756  0.94939981  0.39800928]\n",
      " [ 0.12110392  0.23132688  0.46968062  0.72204645  0.79309322  0.25454739\n",
      "   0.1460025   0.09641853  0.77386846  0.77690894]\n",
      " [ 0.2700866   0.17551469  0.590185    0.52742982  0.55186483  0.04017769\n",
      "   0.89657665  0.88914759  0.00624648  0.18652922]\n",
      " [ 0.60798622  0.10609171  0.66114738  0.39305919  0.49966822  0.47231357\n",
      "   0.92269985  0.51258759  0.51755527  0.59327891]\n",
      " [ 0.65200212  0.03548308  0.34567925  0.53409114  0.05302863  0.43511088\n",
      "   0.19424453  0.77699348  0.85101403  0.89028585]\n",
      " [ 0.42440075  0.99542264  0.21759209  0.15272512  0.187181    0.88732736\n",
      "   0.6825063   0.49843792  0.07061104  0.11453304]\n",
      " [ 0.92915337  0.13323367  0.89242578  0.30690617  0.60391006  0.88386784\n",
      "   0.56147167  0.72246249  0.61278771  0.82087926]\n",
      " [ 0.44911135  0.02087956  0.13444236  0.51248561  0.86702509  0.69983481\n",
      "   0.22216884  0.25321647  0.08132763  0.79490502]\n",
      " [-0.003558    0.8484993   0.37243657  0.31092479  0.81440143  0.94130818\n",
      "   0.28661044  0.26555031  0.81247663  0.02329278]] [[0.02866564]\n",
      " [0.59424811]\n",
      " [0.7241379 ]\n",
      " [0.56582404]\n",
      " [0.2817798 ]\n",
      " [0.41085487]\n",
      " [0.40677388]\n",
      " [0.78871551]\n",
      " [0.07316281]\n",
      " [0.17926988]]\n"
     ]
    }
   ],
   "source": [
    "print(W1,b1,W2,b2)"
   ]
  },
  {
   "cell_type": "markdown",
   "metadata": {},
   "source": [
    "# Logistic Classifier"
   ]
  },
  {
   "cell_type": "markdown",
   "metadata": {},
   "source": [
    "The Logistic Classifier has 2 hyperparameters that you can experiment with:\n",
    "- **Learning rate** - similar to as defined above in Perceptron, this parameter scales by how much the weights are changed according to the calculated gradient update. \n",
    "- **Number of Epochs** - As described for perceptron.\n",
    "\n"
   ]
  },
  {
   "cell_type": "markdown",
   "metadata": {},
   "source": [
    "\n",
    "The following code: \n",
    "- Creates an instance of the Logistic classifier class \n",
    "- The train function of the Logistic class is trained on the training data\n",
    "- We use the predict function to find the training accuracy as well as the testing accuracy"
   ]
  },
  {
   "cell_type": "code",
   "execution_count": 183,
   "metadata": {},
   "outputs": [
    {
     "data": {
      "text/plain": [
       "(3072, 40000)"
      ]
     },
     "execution_count": 183,
     "metadata": {},
     "output_type": "execute_result"
    }
   ],
   "source": [
    "X_train_CIFAR.shape"
   ]
  },
  {
   "cell_type": "code",
   "execution_count": 209,
   "metadata": {},
   "outputs": [],
   "source": [
    "\"\"\"Logistic regression model.\"\"\"\n",
    "\n",
    "import numpy as np\n",
    "import math\n",
    "\n",
    "\n",
    "class Logistic:\n",
    "    def __init__(self, lr: float, epochs: int):\n",
    "        \"\"\"Initialize a new classifier.\n",
    "        Parameters:\n",
    "            lr: the learning rate\n",
    "            epochs: the number of epochs to train for\n",
    "        \"\"\"\n",
    "        self.w = None\n",
    "        self.lr = lr\n",
    "        self.epochs = epochs\n",
    "        self.threshold = 0.5\n",
    "        \n",
    "    def sigmoid(self, x: np.ndarray) -> np.ndarray:\n",
    "        \"\"\"Sigmoid function.\n",
    "        Parameters:\n",
    "            z: the input\n",
    "        Returns:\n",
    "            the sigmoid of the input\n",
    "        \"\"\"\n",
    "        ##### YOUR CODE STARTS HERE #####\n",
    "        # x = x / np.linalg.norm(x, axis=-1)[:, np.newaxis]\n",
    "        x = x / np.linalg.norm(x, axis=-1)[:, np.newaxis]\n",
    "        return 1 / (1 + np.exp(-x))\n",
    "        \n",
    "        ##### YOUR CODE ENDS HERE #####\n",
    "        \n",
    "    def train(self, X_train: np.ndarray, y_train: np.ndarray, epochs, lr):\n",
    "        \"\"\"Train the classifier.\n",
    "        Use the logistic regression update rule as introduced in lecture.\n",
    "        Parameters:\n",
    "            X_train: a numpy array of shape (N, D) containing training data;\n",
    "                N examples with D dimensions\n",
    "            y_train: a numpy array of shape (N,) containing training labels\n",
    "        \"\"\"\n",
    "        D, N = X_train.shape\n",
    "        self.w = np.random.randn(1, D)\n",
    "        self.bias = 0\n",
    "        \n",
    "        #GD\n",
    "        for _ in range(self.epochs):\n",
    "            linear_model = np.dot(self.w, X_train) + self.bias\n",
    "            y_predicted = self.sigmoid(linear_model)\n",
    "            \n",
    "           # self.predict(X_train, y_train, self.threshold)\n",
    "            \n",
    "            dw = (1/N) * np.dot((y_predicted - y_train), X_train.T)\n",
    "            db = (1/N) * np.sum(y_predicted - y_train)\n",
    "            \n",
    "            self.w -= self.lr * dw\n",
    "            self.bias -= self.lr * db\n",
    "\n",
    "        ##### YOUR CODE STARTS HERE #####\n",
    "        \n",
    "        \n",
    "        ##### YOUR CODE ENDS HERE #####\n",
    "        pass\n",
    "\n",
    "    def predict(self, X_test: np.ndarray) -> np.ndarray:\n",
    "        \"\"\"Use the trained weights to predict labels for test data points.\n",
    "        Parameters:\n",
    "            X_test: a numpy array of shape (N, D) containing testing data;\n",
    "                N examples with D dimensions\n",
    "        Returns:\n",
    "            predicted labels for the data in X_test; a 1-dimensional array of\n",
    "                length N, where each element is an integer giving the predicted\n",
    "                class.\n",
    "        \"\"\"\n",
    "        N, D = X_test.shape\n",
    "        y_test = np.zeros(N)\n",
    "        ##### YOUR CODE STARTS HERE #####\n",
    "        \n",
    "        linear_model = np.dot(self.w , X_test) + self.bias\n",
    "        y_predicted = self.sigmoid(linear_model)\n",
    "        \n",
    "        y_predicted = y_predicted.T\n",
    "        \n",
    "        print(y_predicted.shape)\n",
    "        \n",
    "        y_predicted_class = [1 if i > self.threshold else 0 for i in y_predicted]\n",
    "        \n",
    "       # print(self.get_accuracy(y_predicted_class, y_train))\n",
    "        print(self.w, self.bias)\n",
    "        \n",
    "        \n",
    "        \n",
    "        ##### YOUR CODE ENDS HERE #####\n",
    "        return y_predicted_class\n",
    "    \n",
    "    def get_accuracy(self,predictions, Y):\n",
    "        print(predictions[0:20], Y[0:20])\n",
    "        return np.sum(predictions == Y) / Y.size"
   ]
  },
  {
   "cell_type": "code",
   "execution_count": 210,
   "metadata": {},
   "outputs": [],
   "source": [
    "#y_train_CIFAR[0:20]\n",
    "#y_train_CIFAR = np.where(y_train_CIFAR == 9, 1, 0)\n",
    "#y_train_CIFAR[0:20]\n"
   ]
  },
  {
   "cell_type": "markdown",
   "metadata": {},
   "source": [
    "### Training Logistic Classifer"
   ]
  },
  {
   "cell_type": "code",
   "execution_count": 211,
   "metadata": {},
   "outputs": [],
   "source": [
    "learning_rate = 0.1\n",
    "n_epochs = 1000\n",
    "\n",
    "lr = Logistic(learning_rate, n_epochs)\n",
    "lr.train(X_train_CIFAR, y_train_CIFAR,learning_rate, n_epochs)"
   ]
  },
  {
   "cell_type": "code",
   "execution_count": 212,
   "metadata": {},
   "outputs": [
    {
     "name": "stdout",
     "output_type": "stream",
     "text": [
      "(40000, 1)\n",
      "[[1519.42782942 1463.97561257 1437.05939166 ... -971.8228928\n",
      "  -866.7251691  -778.77115549]] 399.9499991851483\n",
      "[0, 1, 1, 1, 1, 1, 1, 0, 0, 1, 1, 1, 1, 0, 1, 1, 1, 0, 1, 0] [6 9 9 4 1 1 2 7 8 3 4 7 7 2 9 9 9 3 2 6]\n",
      "The training accuracy is given by: 0.123425\n"
     ]
    }
   ],
   "source": [
    "pred_lr = lr.predict(X_train_CIFAR)\n",
    "print('The training accuracy is given by: %f' % (lr.get_accuracy(pred_lr, y_train_CIFAR)))"
   ]
  },
  {
   "cell_type": "markdown",
   "metadata": {},
   "source": [
    "### Validate Logistic Classifer"
   ]
  },
  {
   "cell_type": "code",
   "execution_count": 174,
   "metadata": {},
   "outputs": [
    {
     "name": "stdout",
     "output_type": "stream",
     "text": [
      "(10000, 1)\n",
      "[0, 1, 0, 1, 1, 0, 1, 0, 0, 0, 0, 0, 1, 1, 1, 0, 0, 0, 0, 1] [1 8 5 1 5 7 4 3 8 2 7 2 0 1 5 9 6 2 0 8]\n",
      "The validation accuracy is given by: 0.123900\n"
     ]
    }
   ],
   "source": [
    "pred_lr = lr.predict(X_val_CIFAR)\n",
    "print('The validation accuracy is given by: %f' % (lr.get_accuracy(pred_lr, y_val_CIFAR)))"
   ]
  },
  {
   "cell_type": "markdown",
   "metadata": {},
   "source": [
    "### Test Logistic Classifier"
   ]
  },
  {
   "cell_type": "code",
   "execution_count": 171,
   "metadata": {},
   "outputs": [
    {
     "name": "stdout",
     "output_type": "stream",
     "text": [
      "(10000, 1)\n",
      "[0, 1, 1, 1, 0, 1, 1, 1, 0, 1, 0, 1, 0, 1, 1, 1, 0, 0, 1, 0] [3 8 8 0 6 6 1 6 3 1 0 9 5 7 9 8 5 7 8 6]\n",
      "The testing accuracy is given by: 0.128100\n"
     ]
    }
   ],
   "source": [
    "pred_lr = lr.predict(X_test_CIFAR)\n",
    "print('The testing accuracy is given by: %f' % (lr.get_accuracy(pred_lr, y_test_CIFAR)))"
   ]
  },
  {
   "cell_type": "code",
   "execution_count": 175,
   "metadata": {},
   "outputs": [
    {
     "name": "stdout",
     "output_type": "stream",
     "text": [
      "(10000, 1)\n"
     ]
    }
   ],
   "source": [
    "output_submission_csv('output/Logistic_Regression_submission_CIFAR.csv', lr.predict(X_test_CIFAR))"
   ]
  },
  {
   "cell_type": "code",
   "execution_count": null,
   "metadata": {},
   "outputs": [],
   "source": []
  }
 ],
 "metadata": {
  "kernelspec": {
   "display_name": "Python 3 (ipykernel)",
   "language": "python",
   "name": "python3"
  },
  "language_info": {
   "codemirror_mode": {
    "name": "ipython",
    "version": 3
   },
   "file_extension": ".py",
   "mimetype": "text/x-python",
   "name": "python",
   "nbconvert_exporter": "python",
   "pygments_lexer": "ipython3",
   "version": "3.9.7"
  }
 },
 "nbformat": 4,
 "nbformat_minor": 1
}

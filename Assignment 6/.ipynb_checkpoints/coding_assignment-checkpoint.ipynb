{
 "cells": [
  {
   "cell_type": "code",
   "execution_count": 46,
   "metadata": {
    "execution": {
     "iopub.execute_input": "2022-01-22T15:55:51.161763Z",
     "iopub.status.busy": "2022-01-22T15:55:51.161511Z",
     "iopub.status.idle": "2022-01-22T15:55:51.165623Z",
     "shell.execute_reply": "2022-01-22T15:55:51.164626Z",
     "shell.execute_reply.started": "2022-01-22T15:55:51.161734Z"
    },
    "id": "A-sKLAc9V9hj"
   },
   "outputs": [],
   "source": [
    "import numpy as np\n",
    "import pandas as pd\n",
    "import torch\n",
    "import torch.nn.functional as F\n",
    "import torchtext\n",
    "import time\n",
    "import random\n",
    "import pandas as pd\n",
    "import spacy\n"
   ]
  },
  {
   "cell_type": "markdown",
   "metadata": {
    "id": "MUY48Oy7V9hk"
   },
   "source": [
    "# Import Required Libraries & Data Loading"
   ]
  },
  {
   "cell_type": "code",
   "execution_count": 47,
   "metadata": {
    "colab": {
     "base_uri": "https://localhost:8080/",
     "height": 376
    },
    "execution": {
     "iopub.execute_input": "2022-01-22T15:55:51.178773Z",
     "iopub.status.busy": "2022-01-22T15:55:51.178323Z",
     "iopub.status.idle": "2022-01-22T15:55:52.913605Z",
     "shell.execute_reply": "2022-01-22T15:55:52.912893Z",
     "shell.execute_reply.started": "2022-01-22T15:55:51.178736Z"
    },
    "id": "XPrWcu36V9hl",
    "outputId": "957f130e-6c37-4274-d864-9c42145ddbb5"
   },
   "outputs": [
    {
     "name": "stdout",
     "output_type": "stream",
     "text": [
      "(50000, 2)\n"
     ]
    },
    {
     "data": {
      "text/html": [
       "\n",
       "  <div id=\"df-080fece2-90db-4fa9-9652-330638a5435c\">\n",
       "    <div class=\"colab-df-container\">\n",
       "      <div>\n",
       "<style scoped>\n",
       "    .dataframe tbody tr th:only-of-type {\n",
       "        vertical-align: middle;\n",
       "    }\n",
       "\n",
       "    .dataframe tbody tr th {\n",
       "        vertical-align: top;\n",
       "    }\n",
       "\n",
       "    .dataframe thead th {\n",
       "        text-align: right;\n",
       "    }\n",
       "</style>\n",
       "<table border=\"1\" class=\"dataframe\">\n",
       "  <thead>\n",
       "    <tr style=\"text-align: right;\">\n",
       "      <th></th>\n",
       "      <th>review</th>\n",
       "      <th>sentiment</th>\n",
       "    </tr>\n",
       "  </thead>\n",
       "  <tbody>\n",
       "    <tr>\n",
       "      <th>0</th>\n",
       "      <td>One of the other reviewers has mentioned that ...</td>\n",
       "      <td>positive</td>\n",
       "    </tr>\n",
       "    <tr>\n",
       "      <th>1</th>\n",
       "      <td>A wonderful little production. &lt;br /&gt;&lt;br /&gt;The...</td>\n",
       "      <td>positive</td>\n",
       "    </tr>\n",
       "    <tr>\n",
       "      <th>2</th>\n",
       "      <td>I thought this was a wonderful way to spend ti...</td>\n",
       "      <td>positive</td>\n",
       "    </tr>\n",
       "    <tr>\n",
       "      <th>3</th>\n",
       "      <td>Basically there's a family where a little boy ...</td>\n",
       "      <td>negative</td>\n",
       "    </tr>\n",
       "    <tr>\n",
       "      <th>4</th>\n",
       "      <td>Petter Mattei's \"Love in the Time of Money\" is...</td>\n",
       "      <td>positive</td>\n",
       "    </tr>\n",
       "    <tr>\n",
       "      <th>5</th>\n",
       "      <td>Probably my all-time favorite movie, a story o...</td>\n",
       "      <td>positive</td>\n",
       "    </tr>\n",
       "    <tr>\n",
       "      <th>6</th>\n",
       "      <td>I sure would like to see a resurrection of a u...</td>\n",
       "      <td>positive</td>\n",
       "    </tr>\n",
       "    <tr>\n",
       "      <th>7</th>\n",
       "      <td>This show was an amazing, fresh &amp; innovative i...</td>\n",
       "      <td>negative</td>\n",
       "    </tr>\n",
       "    <tr>\n",
       "      <th>8</th>\n",
       "      <td>Encouraged by the positive comments about this...</td>\n",
       "      <td>negative</td>\n",
       "    </tr>\n",
       "    <tr>\n",
       "      <th>9</th>\n",
       "      <td>If you like original gut wrenching laughter yo...</td>\n",
       "      <td>positive</td>\n",
       "    </tr>\n",
       "  </tbody>\n",
       "</table>\n",
       "</div>\n",
       "      <button class=\"colab-df-convert\" onclick=\"convertToInteractive('df-080fece2-90db-4fa9-9652-330638a5435c')\"\n",
       "              title=\"Convert this dataframe to an interactive table.\"\n",
       "              style=\"display:none;\">\n",
       "        \n",
       "  <svg xmlns=\"http://www.w3.org/2000/svg\" height=\"24px\"viewBox=\"0 0 24 24\"\n",
       "       width=\"24px\">\n",
       "    <path d=\"M0 0h24v24H0V0z\" fill=\"none\"/>\n",
       "    <path d=\"M18.56 5.44l.94 2.06.94-2.06 2.06-.94-2.06-.94-.94-2.06-.94 2.06-2.06.94zm-11 1L8.5 8.5l.94-2.06 2.06-.94-2.06-.94L8.5 2.5l-.94 2.06-2.06.94zm10 10l.94 2.06.94-2.06 2.06-.94-2.06-.94-.94-2.06-.94 2.06-2.06.94z\"/><path d=\"M17.41 7.96l-1.37-1.37c-.4-.4-.92-.59-1.43-.59-.52 0-1.04.2-1.43.59L10.3 9.45l-7.72 7.72c-.78.78-.78 2.05 0 2.83L4 21.41c.39.39.9.59 1.41.59.51 0 1.02-.2 1.41-.59l7.78-7.78 2.81-2.81c.8-.78.8-2.07 0-2.86zM5.41 20L4 18.59l7.72-7.72 1.47 1.35L5.41 20z\"/>\n",
       "  </svg>\n",
       "      </button>\n",
       "      \n",
       "  <style>\n",
       "    .colab-df-container {\n",
       "      display:flex;\n",
       "      flex-wrap:wrap;\n",
       "      gap: 12px;\n",
       "    }\n",
       "\n",
       "    .colab-df-convert {\n",
       "      background-color: #E8F0FE;\n",
       "      border: none;\n",
       "      border-radius: 50%;\n",
       "      cursor: pointer;\n",
       "      display: none;\n",
       "      fill: #1967D2;\n",
       "      height: 32px;\n",
       "      padding: 0 0 0 0;\n",
       "      width: 32px;\n",
       "    }\n",
       "\n",
       "    .colab-df-convert:hover {\n",
       "      background-color: #E2EBFA;\n",
       "      box-shadow: 0px 1px 2px rgba(60, 64, 67, 0.3), 0px 1px 3px 1px rgba(60, 64, 67, 0.15);\n",
       "      fill: #174EA6;\n",
       "    }\n",
       "\n",
       "    [theme=dark] .colab-df-convert {\n",
       "      background-color: #3B4455;\n",
       "      fill: #D2E3FC;\n",
       "    }\n",
       "\n",
       "    [theme=dark] .colab-df-convert:hover {\n",
       "      background-color: #434B5C;\n",
       "      box-shadow: 0px 1px 3px 1px rgba(0, 0, 0, 0.15);\n",
       "      filter: drop-shadow(0px 1px 2px rgba(0, 0, 0, 0.3));\n",
       "      fill: #FFFFFF;\n",
       "    }\n",
       "  </style>\n",
       "\n",
       "      <script>\n",
       "        const buttonEl =\n",
       "          document.querySelector('#df-080fece2-90db-4fa9-9652-330638a5435c button.colab-df-convert');\n",
       "        buttonEl.style.display =\n",
       "          google.colab.kernel.accessAllowed ? 'block' : 'none';\n",
       "\n",
       "        async function convertToInteractive(key) {\n",
       "          const element = document.querySelector('#df-080fece2-90db-4fa9-9652-330638a5435c');\n",
       "          const dataTable =\n",
       "            await google.colab.kernel.invokeFunction('convertToInteractive',\n",
       "                                                     [key], {});\n",
       "          if (!dataTable) return;\n",
       "\n",
       "          const docLinkHtml = 'Like what you see? Visit the ' +\n",
       "            '<a target=\"_blank\" href=https://colab.research.google.com/notebooks/data_table.ipynb>data table notebook</a>'\n",
       "            + ' to learn more about interactive tables.';\n",
       "          element.innerHTML = '';\n",
       "          dataTable['output_type'] = 'display_data';\n",
       "          await google.colab.output.renderOutput(dataTable, element);\n",
       "          const docLink = document.createElement('div');\n",
       "          docLink.innerHTML = docLinkHtml;\n",
       "          element.appendChild(docLink);\n",
       "        }\n",
       "      </script>\n",
       "    </div>\n",
       "  </div>\n",
       "  "
      ],
      "text/plain": [
       "                                              review sentiment\n",
       "0  One of the other reviewers has mentioned that ...  positive\n",
       "1  A wonderful little production. <br /><br />The...  positive\n",
       "2  I thought this was a wonderful way to spend ti...  positive\n",
       "3  Basically there's a family where a little boy ...  negative\n",
       "4  Petter Mattei's \"Love in the Time of Money\" is...  positive\n",
       "5  Probably my all-time favorite movie, a story o...  positive\n",
       "6  I sure would like to see a resurrection of a u...  positive\n",
       "7  This show was an amazing, fresh & innovative i...  negative\n",
       "8  Encouraged by the positive comments about this...  negative\n",
       "9  If you like original gut wrenching laughter yo...  positive"
      ]
     },
     "execution_count": 47,
     "metadata": {},
     "output_type": "execute_result"
    }
   ],
   "source": [
    "#importing the training data\n",
    "df=pd.read_csv('/content/IMDB Dataset.csv') \n",
    "print(df.shape)\n",
    "df.head(10)"
   ]
  },
  {
   "cell_type": "markdown",
   "metadata": {
    "id": "hWmK61BVV9hm"
   },
   "source": [
    "# Data Preparation"
   ]
  },
  {
   "cell_type": "code",
   "execution_count": 48,
   "metadata": {
    "execution": {
     "iopub.execute_input": "2022-01-22T15:55:52.915240Z",
     "iopub.status.busy": "2022-01-22T15:55:52.914817Z",
     "iopub.status.idle": "2022-01-22T15:55:52.931074Z",
     "shell.execute_reply": "2022-01-22T15:55:52.930198Z",
     "shell.execute_reply.started": "2022-01-22T15:55:52.915202Z"
    },
    "id": "8ozXhR8CV9hn"
   },
   "outputs": [],
   "source": [
    "\"\"\"\n",
    "sentiment : 0 = negative, 1 = positive \n",
    "use the following to get the sentiment of a sentence :  \n",
    "sentiment = 0 if sentiment is negative else 1\n",
    "\n",
    "\n",
    "use np.where to get the sentiment of a sentence :\n",
    "\"\"\"\n",
    "df['sentiment'] = np.where(df['sentiment'] == 'positive', 1, 0)"
   ]
  },
  {
   "cell_type": "code",
   "execution_count": 49,
   "metadata": {
    "colab": {
     "base_uri": "https://localhost:8080/",
     "height": 204
    },
    "execution": {
     "iopub.execute_input": "2022-01-22T15:55:52.933556Z",
     "iopub.status.busy": "2022-01-22T15:55:52.933295Z",
     "iopub.status.idle": "2022-01-22T15:55:52.942961Z",
     "shell.execute_reply": "2022-01-22T15:55:52.942162Z",
     "shell.execute_reply.started": "2022-01-22T15:55:52.933524Z"
    },
    "id": "D5mynxk6V9hn",
    "outputId": "b80fbe93-f0f7-450e-cc45-bb0c100445a1"
   },
   "outputs": [
    {
     "data": {
      "text/html": [
       "\n",
       "  <div id=\"df-ad595d13-c9ae-41dc-a1fd-594bbe566e1a\">\n",
       "    <div class=\"colab-df-container\">\n",
       "      <div>\n",
       "<style scoped>\n",
       "    .dataframe tbody tr th:only-of-type {\n",
       "        vertical-align: middle;\n",
       "    }\n",
       "\n",
       "    .dataframe tbody tr th {\n",
       "        vertical-align: top;\n",
       "    }\n",
       "\n",
       "    .dataframe thead th {\n",
       "        text-align: right;\n",
       "    }\n",
       "</style>\n",
       "<table border=\"1\" class=\"dataframe\">\n",
       "  <thead>\n",
       "    <tr style=\"text-align: right;\">\n",
       "      <th></th>\n",
       "      <th>review</th>\n",
       "      <th>sentiment</th>\n",
       "    </tr>\n",
       "  </thead>\n",
       "  <tbody>\n",
       "    <tr>\n",
       "      <th>0</th>\n",
       "      <td>One of the other reviewers has mentioned that ...</td>\n",
       "      <td>1</td>\n",
       "    </tr>\n",
       "    <tr>\n",
       "      <th>1</th>\n",
       "      <td>A wonderful little production. &lt;br /&gt;&lt;br /&gt;The...</td>\n",
       "      <td>1</td>\n",
       "    </tr>\n",
       "    <tr>\n",
       "      <th>2</th>\n",
       "      <td>I thought this was a wonderful way to spend ti...</td>\n",
       "      <td>1</td>\n",
       "    </tr>\n",
       "    <tr>\n",
       "      <th>3</th>\n",
       "      <td>Basically there's a family where a little boy ...</td>\n",
       "      <td>0</td>\n",
       "    </tr>\n",
       "    <tr>\n",
       "      <th>4</th>\n",
       "      <td>Petter Mattei's \"Love in the Time of Money\" is...</td>\n",
       "      <td>1</td>\n",
       "    </tr>\n",
       "  </tbody>\n",
       "</table>\n",
       "</div>\n",
       "      <button class=\"colab-df-convert\" onclick=\"convertToInteractive('df-ad595d13-c9ae-41dc-a1fd-594bbe566e1a')\"\n",
       "              title=\"Convert this dataframe to an interactive table.\"\n",
       "              style=\"display:none;\">\n",
       "        \n",
       "  <svg xmlns=\"http://www.w3.org/2000/svg\" height=\"24px\"viewBox=\"0 0 24 24\"\n",
       "       width=\"24px\">\n",
       "    <path d=\"M0 0h24v24H0V0z\" fill=\"none\"/>\n",
       "    <path d=\"M18.56 5.44l.94 2.06.94-2.06 2.06-.94-2.06-.94-.94-2.06-.94 2.06-2.06.94zm-11 1L8.5 8.5l.94-2.06 2.06-.94-2.06-.94L8.5 2.5l-.94 2.06-2.06.94zm10 10l.94 2.06.94-2.06 2.06-.94-2.06-.94-.94-2.06-.94 2.06-2.06.94z\"/><path d=\"M17.41 7.96l-1.37-1.37c-.4-.4-.92-.59-1.43-.59-.52 0-1.04.2-1.43.59L10.3 9.45l-7.72 7.72c-.78.78-.78 2.05 0 2.83L4 21.41c.39.39.9.59 1.41.59.51 0 1.02-.2 1.41-.59l7.78-7.78 2.81-2.81c.8-.78.8-2.07 0-2.86zM5.41 20L4 18.59l7.72-7.72 1.47 1.35L5.41 20z\"/>\n",
       "  </svg>\n",
       "      </button>\n",
       "      \n",
       "  <style>\n",
       "    .colab-df-container {\n",
       "      display:flex;\n",
       "      flex-wrap:wrap;\n",
       "      gap: 12px;\n",
       "    }\n",
       "\n",
       "    .colab-df-convert {\n",
       "      background-color: #E8F0FE;\n",
       "      border: none;\n",
       "      border-radius: 50%;\n",
       "      cursor: pointer;\n",
       "      display: none;\n",
       "      fill: #1967D2;\n",
       "      height: 32px;\n",
       "      padding: 0 0 0 0;\n",
       "      width: 32px;\n",
       "    }\n",
       "\n",
       "    .colab-df-convert:hover {\n",
       "      background-color: #E2EBFA;\n",
       "      box-shadow: 0px 1px 2px rgba(60, 64, 67, 0.3), 0px 1px 3px 1px rgba(60, 64, 67, 0.15);\n",
       "      fill: #174EA6;\n",
       "    }\n",
       "\n",
       "    [theme=dark] .colab-df-convert {\n",
       "      background-color: #3B4455;\n",
       "      fill: #D2E3FC;\n",
       "    }\n",
       "\n",
       "    [theme=dark] .colab-df-convert:hover {\n",
       "      background-color: #434B5C;\n",
       "      box-shadow: 0px 1px 3px 1px rgba(0, 0, 0, 0.15);\n",
       "      filter: drop-shadow(0px 1px 2px rgba(0, 0, 0, 0.3));\n",
       "      fill: #FFFFFF;\n",
       "    }\n",
       "  </style>\n",
       "\n",
       "      <script>\n",
       "        const buttonEl =\n",
       "          document.querySelector('#df-ad595d13-c9ae-41dc-a1fd-594bbe566e1a button.colab-df-convert');\n",
       "        buttonEl.style.display =\n",
       "          google.colab.kernel.accessAllowed ? 'block' : 'none';\n",
       "\n",
       "        async function convertToInteractive(key) {\n",
       "          const element = document.querySelector('#df-ad595d13-c9ae-41dc-a1fd-594bbe566e1a');\n",
       "          const dataTable =\n",
       "            await google.colab.kernel.invokeFunction('convertToInteractive',\n",
       "                                                     [key], {});\n",
       "          if (!dataTable) return;\n",
       "\n",
       "          const docLinkHtml = 'Like what you see? Visit the ' +\n",
       "            '<a target=\"_blank\" href=https://colab.research.google.com/notebooks/data_table.ipynb>data table notebook</a>'\n",
       "            + ' to learn more about interactive tables.';\n",
       "          element.innerHTML = '';\n",
       "          dataTable['output_type'] = 'display_data';\n",
       "          await google.colab.output.renderOutput(dataTable, element);\n",
       "          const docLink = document.createElement('div');\n",
       "          docLink.innerHTML = docLinkHtml;\n",
       "          element.appendChild(docLink);\n",
       "        }\n",
       "      </script>\n",
       "    </div>\n",
       "  </div>\n",
       "  "
      ],
      "text/plain": [
       "                                              review  sentiment\n",
       "0  One of the other reviewers has mentioned that ...          1\n",
       "1  A wonderful little production. <br /><br />The...          1\n",
       "2  I thought this was a wonderful way to spend ti...          1\n",
       "3  Basically there's a family where a little boy ...          0\n",
       "4  Petter Mattei's \"Love in the Time of Money\" is...          1"
      ]
     },
     "execution_count": 49,
     "metadata": {},
     "output_type": "execute_result"
    }
   ],
   "source": [
    "df.head()"
   ]
  },
  {
   "cell_type": "code",
   "execution_count": 50,
   "metadata": {
    "execution": {
     "iopub.execute_input": "2022-01-22T15:55:52.944777Z",
     "iopub.status.busy": "2022-01-22T15:55:52.944484Z",
     "iopub.status.idle": "2022-01-22T15:55:52.951178Z",
     "shell.execute_reply": "2022-01-22T15:55:52.950461Z",
     "shell.execute_reply.started": "2022-01-22T15:55:52.944743Z"
    },
    "id": "VNOEp6ydV9hn"
   },
   "outputs": [],
   "source": [
    "df.columns = ['TEXT_COLUMN_NAME', 'LABEL_COLUMN_NAME']"
   ]
  },
  {
   "cell_type": "code",
   "execution_count": 51,
   "metadata": {
    "colab": {
     "base_uri": "https://localhost:8080/"
    },
    "execution": {
     "iopub.execute_input": "2022-01-22T15:55:52.953080Z",
     "iopub.status.busy": "2022-01-22T15:55:52.952741Z",
     "iopub.status.idle": "2022-01-22T15:55:53.553818Z",
     "shell.execute_reply": "2022-01-22T15:55:53.553120Z",
     "shell.execute_reply.started": "2022-01-22T15:55:52.952969Z"
    },
    "id": "UfE_fDseV9ho",
    "outputId": "f005a67e-f31a-4b84-e94b-f7be110bb96b"
   },
   "outputs": [
    {
     "data": {
      "text/plain": [
       "<spacy.lang.en.English at 0x7f036025fdd0>"
      ]
     },
     "execution_count": 51,
     "metadata": {},
     "output_type": "execute_result"
    }
   ],
   "source": [
    "\"\"\"\n",
    "Load the spacy model and load the English language model from https://spacy.io/usage/models\n",
    "\"\"\"\n",
    "#python -m spacy download en_core_web_sm\n",
    "spacy.load(\"en_core_web_sm\")"
   ]
  },
  {
   "cell_type": "code",
   "execution_count": 72,
   "metadata": {
    "execution": {
     "iopub.execute_input": "2022-01-22T15:55:53.629426Z",
     "iopub.status.busy": "2022-01-22T15:55:53.629143Z",
     "iopub.status.idle": "2022-01-22T15:55:53.637675Z",
     "shell.execute_reply": "2022-01-22T15:55:53.636930Z",
     "shell.execute_reply.started": "2022-01-22T15:55:53.629373Z"
    },
    "id": "y1EVvLCZV9ho"
   },
   "outputs": [],
   "source": [
    "# general Settings\n",
    "\n",
    "RANDOM_SEED = 123\n",
    "torch.manual_seed(RANDOM_SEED)\n",
    "\n",
    "VOCABULARY_SIZE = 20000\n",
    "LEARNING_RATE = 0.0001 ### ADD YOUR LEARNING RATE HERE ###\n",
    "BATCH_SIZE = 128 ### ADD YOUR BATCH SIZE HERE ###\n",
    "NUM_EPOCHS = 20 ### ADD YOUR NUMBER OF EPOCHS HERE ###\n",
    "DEVICE = torch.device('cuda' if torch.cuda.is_available() else 'cpu')\n",
    "\n",
    "EMBEDDING_DIM = 500 ### ADD YOUR EMBEDDING DIMENSION HERE ###\n",
    "HIDDEN_DIM = 256 ### ADD YOUR HIDDEN DIMENSION HERE ###\n",
    "NUM_CLASSES = 2"
   ]
  },
  {
   "cell_type": "markdown",
   "metadata": {
    "id": "X9B0MWPPV9ho"
   },
   "source": [
    "# Text & label Preparation"
   ]
  },
  {
   "cell_type": "code",
   "execution_count": 53,
   "metadata": {
    "id": "QHJoxNxRZHOK"
   },
   "outputs": [],
   "source": [
    "#pip install torchtext==0.9"
   ]
  },
  {
   "cell_type": "code",
   "execution_count": 54,
   "metadata": {
    "execution": {
     "iopub.execute_input": "2022-01-22T15:55:53.639530Z",
     "iopub.status.busy": "2022-01-22T15:55:53.639045Z",
     "iopub.status.idle": "2022-01-22T15:55:54.191068Z",
     "shell.execute_reply": "2022-01-22T15:55:54.190361Z",
     "shell.execute_reply.started": "2022-01-22T15:55:53.639494Z"
    },
    "id": "ecvL3fNwV9hp"
   },
   "outputs": [],
   "source": [
    "# Define feature processing\n",
    "\"\"\"\n",
    "Define the fields for the data.\n",
    "\"\"\"\n",
    "TEXT = torchtext.legacy.data.Field(tokenize = 'spacy', tokenizer_language = 'en_core_web_sm')"
   ]
  },
  {
   "cell_type": "code",
   "execution_count": 55,
   "metadata": {
    "execution": {
     "iopub.execute_input": "2022-01-22T15:55:54.194504Z",
     "iopub.status.busy": "2022-01-22T15:55:54.194231Z",
     "iopub.status.idle": "2022-01-22T15:55:54.198370Z",
     "shell.execute_reply": "2022-01-22T15:55:54.197471Z",
     "shell.execute_reply.started": "2022-01-22T15:55:54.194470Z"
    },
    "id": "wPp2hLheV9hp"
   },
   "outputs": [],
   "source": [
    "# Define Label processing\n",
    "LABEL = torchtext.legacy.data.LabelField(dtype = torch.float)"
   ]
  },
  {
   "cell_type": "code",
   "execution_count": 56,
   "metadata": {
    "colab": {
     "base_uri": "https://localhost:8080/",
     "height": 204
    },
    "execution": {
     "iopub.execute_input": "2022-01-22T15:55:54.200276Z",
     "iopub.status.busy": "2022-01-22T15:55:54.199959Z",
     "iopub.status.idle": "2022-01-22T15:55:57.099915Z",
     "shell.execute_reply": "2022-01-22T15:55:57.099168Z",
     "shell.execute_reply.started": "2022-01-22T15:55:54.200243Z"
    },
    "id": "CshtQx-dV9hp",
    "outputId": "487f4bd2-7550-4722-a64d-a8070b6810b5"
   },
   "outputs": [
    {
     "data": {
      "text/html": [
       "\n",
       "  <div id=\"df-38074400-3ba8-4d7a-929c-361f3f65876c\">\n",
       "    <div class=\"colab-df-container\">\n",
       "      <div>\n",
       "<style scoped>\n",
       "    .dataframe tbody tr th:only-of-type {\n",
       "        vertical-align: middle;\n",
       "    }\n",
       "\n",
       "    .dataframe tbody tr th {\n",
       "        vertical-align: top;\n",
       "    }\n",
       "\n",
       "    .dataframe thead th {\n",
       "        text-align: right;\n",
       "    }\n",
       "</style>\n",
       "<table border=\"1\" class=\"dataframe\">\n",
       "  <thead>\n",
       "    <tr style=\"text-align: right;\">\n",
       "      <th></th>\n",
       "      <th>TEXT_COLUMN_NAME</th>\n",
       "      <th>LABEL_COLUMN_NAME</th>\n",
       "    </tr>\n",
       "  </thead>\n",
       "  <tbody>\n",
       "    <tr>\n",
       "      <th>0</th>\n",
       "      <td>One of the other reviewers has mentioned that ...</td>\n",
       "      <td>1</td>\n",
       "    </tr>\n",
       "    <tr>\n",
       "      <th>1</th>\n",
       "      <td>A wonderful little production. &lt;br /&gt;&lt;br /&gt;The...</td>\n",
       "      <td>1</td>\n",
       "    </tr>\n",
       "    <tr>\n",
       "      <th>2</th>\n",
       "      <td>I thought this was a wonderful way to spend ti...</td>\n",
       "      <td>1</td>\n",
       "    </tr>\n",
       "    <tr>\n",
       "      <th>3</th>\n",
       "      <td>Basically there's a family where a little boy ...</td>\n",
       "      <td>0</td>\n",
       "    </tr>\n",
       "    <tr>\n",
       "      <th>4</th>\n",
       "      <td>Petter Mattei's \"Love in the Time of Money\" is...</td>\n",
       "      <td>1</td>\n",
       "    </tr>\n",
       "  </tbody>\n",
       "</table>\n",
       "</div>\n",
       "      <button class=\"colab-df-convert\" onclick=\"convertToInteractive('df-38074400-3ba8-4d7a-929c-361f3f65876c')\"\n",
       "              title=\"Convert this dataframe to an interactive table.\"\n",
       "              style=\"display:none;\">\n",
       "        \n",
       "  <svg xmlns=\"http://www.w3.org/2000/svg\" height=\"24px\"viewBox=\"0 0 24 24\"\n",
       "       width=\"24px\">\n",
       "    <path d=\"M0 0h24v24H0V0z\" fill=\"none\"/>\n",
       "    <path d=\"M18.56 5.44l.94 2.06.94-2.06 2.06-.94-2.06-.94-.94-2.06-.94 2.06-2.06.94zm-11 1L8.5 8.5l.94-2.06 2.06-.94-2.06-.94L8.5 2.5l-.94 2.06-2.06.94zm10 10l.94 2.06.94-2.06 2.06-.94-2.06-.94-.94-2.06-.94 2.06-2.06.94z\"/><path d=\"M17.41 7.96l-1.37-1.37c-.4-.4-.92-.59-1.43-.59-.52 0-1.04.2-1.43.59L10.3 9.45l-7.72 7.72c-.78.78-.78 2.05 0 2.83L4 21.41c.39.39.9.59 1.41.59.51 0 1.02-.2 1.41-.59l7.78-7.78 2.81-2.81c.8-.78.8-2.07 0-2.86zM5.41 20L4 18.59l7.72-7.72 1.47 1.35L5.41 20z\"/>\n",
       "  </svg>\n",
       "      </button>\n",
       "      \n",
       "  <style>\n",
       "    .colab-df-container {\n",
       "      display:flex;\n",
       "      flex-wrap:wrap;\n",
       "      gap: 12px;\n",
       "    }\n",
       "\n",
       "    .colab-df-convert {\n",
       "      background-color: #E8F0FE;\n",
       "      border: none;\n",
       "      border-radius: 50%;\n",
       "      cursor: pointer;\n",
       "      display: none;\n",
       "      fill: #1967D2;\n",
       "      height: 32px;\n",
       "      padding: 0 0 0 0;\n",
       "      width: 32px;\n",
       "    }\n",
       "\n",
       "    .colab-df-convert:hover {\n",
       "      background-color: #E2EBFA;\n",
       "      box-shadow: 0px 1px 2px rgba(60, 64, 67, 0.3), 0px 1px 3px 1px rgba(60, 64, 67, 0.15);\n",
       "      fill: #174EA6;\n",
       "    }\n",
       "\n",
       "    [theme=dark] .colab-df-convert {\n",
       "      background-color: #3B4455;\n",
       "      fill: #D2E3FC;\n",
       "    }\n",
       "\n",
       "    [theme=dark] .colab-df-convert:hover {\n",
       "      background-color: #434B5C;\n",
       "      box-shadow: 0px 1px 3px 1px rgba(0, 0, 0, 0.15);\n",
       "      filter: drop-shadow(0px 1px 2px rgba(0, 0, 0, 0.3));\n",
       "      fill: #FFFFFF;\n",
       "    }\n",
       "  </style>\n",
       "\n",
       "      <script>\n",
       "        const buttonEl =\n",
       "          document.querySelector('#df-38074400-3ba8-4d7a-929c-361f3f65876c button.colab-df-convert');\n",
       "        buttonEl.style.display =\n",
       "          google.colab.kernel.accessAllowed ? 'block' : 'none';\n",
       "\n",
       "        async function convertToInteractive(key) {\n",
       "          const element = document.querySelector('#df-38074400-3ba8-4d7a-929c-361f3f65876c');\n",
       "          const dataTable =\n",
       "            await google.colab.kernel.invokeFunction('convertToInteractive',\n",
       "                                                     [key], {});\n",
       "          if (!dataTable) return;\n",
       "\n",
       "          const docLinkHtml = 'Like what you see? Visit the ' +\n",
       "            '<a target=\"_blank\" href=https://colab.research.google.com/notebooks/data_table.ipynb>data table notebook</a>'\n",
       "            + ' to learn more about interactive tables.';\n",
       "          element.innerHTML = '';\n",
       "          dataTable['output_type'] = 'display_data';\n",
       "          await google.colab.output.renderOutput(dataTable, element);\n",
       "          const docLink = document.createElement('div');\n",
       "          docLink.innerHTML = docLinkHtml;\n",
       "          element.appendChild(docLink);\n",
       "        }\n",
       "      </script>\n",
       "    </div>\n",
       "  </div>\n",
       "  "
      ],
      "text/plain": [
       "                                    TEXT_COLUMN_NAME  LABEL_COLUMN_NAME\n",
       "0  One of the other reviewers has mentioned that ...                  1\n",
       "1  A wonderful little production. <br /><br />The...                  1\n",
       "2  I thought this was a wonderful way to spend ti...                  1\n",
       "3  Basically there's a family where a little boy ...                  0\n",
       "4  Petter Mattei's \"Love in the Time of Money\" is...                  1"
      ]
     },
     "execution_count": 56,
     "metadata": {},
     "output_type": "execute_result"
    }
   ],
   "source": [
    "\"\"\"\n",
    "Define the fields for the data.\n",
    "\"\"\"\n",
    "\n",
    "df.to_csv('moviedata.csv', index = None)\n",
    "df = pd.read_csv('moviedata.csv')\n",
    "df.head()"
   ]
  },
  {
   "cell_type": "code",
   "execution_count": 73,
   "metadata": {
    "execution": {
     "iopub.execute_input": "2022-01-22T15:55:57.102513Z",
     "iopub.status.busy": "2022-01-22T15:55:57.102056Z",
     "iopub.status.idle": "2022-01-22T15:56:41.889075Z",
     "shell.execute_reply": "2022-01-22T15:56:41.888358Z",
     "shell.execute_reply.started": "2022-01-22T15:55:57.102470Z"
    },
    "id": "963ZB5iZV9hq"
   },
   "outputs": [],
   "source": [
    "# process the dataset\n",
    "\n",
    "fields = [('TEXT_COLUMN_NAME', TEXT), ('LABEL_COLUMN_NAME', LABEL)]\n",
    "\n",
    "dataset = torchtext.legacy.data.TabularDataset(\n",
    "                    path = '/content/IMDB Dataset.csv', ### ADD YOUR DATASET PATH HERE ###\n",
    "                    format = 'csv', ### ADD YOUR DATASET FORMAT HERE ###\n",
    "                    skip_header = False, ### ADD YOUR SKIP HEADER HERE ### \n",
    "                    fields =  fields### ADD YOUR FIELDS HERE ### \n",
    ")"
   ]
  },
  {
   "cell_type": "markdown",
   "metadata": {
    "id": "VViX6rkgV9hq"
   },
   "source": [
    "# Data Split"
   ]
  },
  {
   "cell_type": "code",
   "execution_count": 74,
   "metadata": {
    "colab": {
     "base_uri": "https://localhost:8080/"
    },
    "execution": {
     "iopub.execute_input": "2022-01-22T15:56:41.890714Z",
     "iopub.status.busy": "2022-01-22T15:56:41.890459Z",
     "iopub.status.idle": "2022-01-22T15:56:41.961168Z",
     "shell.execute_reply": "2022-01-22T15:56:41.960371Z",
     "shell.execute_reply.started": "2022-01-22T15:56:41.890680Z"
    },
    "id": "XCaJ0lBDV9hq",
    "outputId": "a63d8039-5c9b-4e02-f407-8bf51192916b"
   },
   "outputs": [
    {
     "name": "stdout",
     "output_type": "stream",
     "text": [
      "Length of train data 40001\n",
      "Length of test data 10000\n"
     ]
    }
   ],
   "source": [
    "# Split dataset into train and test set\n",
    "\n",
    "train_data, test_data = dataset.split(split_ratio = [0.8, 0.2], random_state = random.seed(RANDOM_SEED))\n",
    "\n",
    "print('Length of train data', len(train_data))\n",
    "print('Length of test data', len(test_data))"
   ]
  },
  {
   "cell_type": "code",
   "execution_count": 75,
   "metadata": {
    "colab": {
     "base_uri": "https://localhost:8080/"
    },
    "execution": {
     "iopub.execute_input": "2022-01-22T15:56:41.962867Z",
     "iopub.status.busy": "2022-01-22T15:56:41.962611Z",
     "iopub.status.idle": "2022-01-22T15:56:42.018970Z",
     "shell.execute_reply": "2022-01-22T15:56:42.017378Z",
     "shell.execute_reply.started": "2022-01-22T15:56:41.962832Z"
    },
    "id": "RUgFmajdV9hr",
    "outputId": "3dbb149b-4a1c-4288-957e-2d88e6a3516c"
   },
   "outputs": [
    {
     "name": "stdout",
     "output_type": "stream",
     "text": [
      "Length of train data 34001\n",
      "Length of valid data 6000\n"
     ]
    }
   ],
   "source": [
    "train_data, val_data = train_data.split(split_ratio = [0.85, 0.15], random_state = random.seed(RANDOM_SEED))\n",
    "\n",
    "print('Length of train data', len(train_data))\n",
    "print('Length of valid data', len(val_data))"
   ]
  },
  {
   "cell_type": "markdown",
   "metadata": {
    "id": "AEKs5KgMV9hr"
   },
   "source": [
    "# Data Observation after Tokenization"
   ]
  },
  {
   "cell_type": "code",
   "execution_count": 76,
   "metadata": {
    "colab": {
     "base_uri": "https://localhost:8080/"
    },
    "execution": {
     "iopub.execute_input": "2022-01-22T15:56:42.020384Z",
     "iopub.status.busy": "2022-01-22T15:56:42.020132Z",
     "iopub.status.idle": "2022-01-22T15:56:42.026208Z",
     "shell.execute_reply": "2022-01-22T15:56:42.025377Z",
     "shell.execute_reply.started": "2022-01-22T15:56:42.020349Z"
    },
    "id": "ThZnXobvV9hs",
    "outputId": "a4ae0bba-db46-43a5-979e-238f2e55f440"
   },
   "outputs": [
    {
     "name": "stdout",
     "output_type": "stream",
     "text": [
      "{'TEXT_COLUMN_NAME': ['Adorable', '!', 'I', 'saw', 'Domestic', 'Import', 'in', 'Philly', 'in', 'October', 'with', 'my', 'kids', '.', 'We', 'all', 'liked', 'it', 'so', 'much', 'that', 'we', 'saw', 'it', 'a', 'second', 'time', 'with', 'my', 'parents', '.', 'I', 'have', \"n't\", 'heard', 'them', 'laugh', 'like', 'that', 'in', 'years', '!', 'It', 'was', 'the', 'first', 'time', 'that', 'I', 'can', 'remember', 'seeing', 'a', 'movie', 'that', 'my', 'parents', 'and', 'my', 'kids', 'could', 'enjoy', '.', 'It', \"'s\", 'really', 'cute', 'and', 'we', 'ca', \"n't\", 'wait', 'for', 'it', 'to', 'come', 'out', 'on', 'DVD', '.', 'They', 'need', 'to', 'make', 'more', 'movies', 'like', 'Domestic', 'Import', '.', 'It', 'is', 'refreshing', 'to', 'go', 'to', 'a', 'movie', 'that', 'three', 'different', 'generations', 'can', 'enjoy', '(', 'and', 'not', 'be', 'embarrassed', ')', '.', 'I', 'have', 'not', 'seen', 'a', 'movie', 'this', 'cute', 'since', 'My', 'Big', 'Fat', 'Greek', 'Wedding', '.', 'I', 'loved', 'Mindy', 'Sterling', 'as', 'the', 'mother', '.', 'She', 'was', 'also', 'in', 'Austin', 'Powers', '.', 'Howard', 'Hesseman', 'is', 'in', 'this', 'too', 'and', 'he', 'is', 'hilarious', '.', 'I', 'remember', 'him', 'from', 'WKRP', '.'], 'LABEL_COLUMN_NAME': 'positive'}\n"
     ]
    }
   ],
   "source": [
    "# Look at first traning example\n",
    "\n",
    "print(vars(train_data.examples[2000]))"
   ]
  },
  {
   "cell_type": "code",
   "execution_count": 77,
   "metadata": {
    "colab": {
     "base_uri": "https://localhost:8080/"
    },
    "execution": {
     "iopub.execute_input": "2022-01-22T15:56:42.028212Z",
     "iopub.status.busy": "2022-01-22T15:56:42.027904Z",
     "iopub.status.idle": "2022-01-22T15:56:43.688300Z",
     "shell.execute_reply": "2022-01-22T15:56:43.687534Z",
     "shell.execute_reply.started": "2022-01-22T15:56:42.028178Z"
    },
    "id": "HV9uYscIV9hs",
    "outputId": "676793d6-01cd-4aef-9d36-19e69ad04db9"
   },
   "outputs": [
    {
     "name": "stdout",
     "output_type": "stream",
     "text": [
      "vocabulary size: 20002\n",
      "Label Size: 3\n"
     ]
    }
   ],
   "source": [
    "# Build Vocabulary\n",
    "\n",
    "TEXT.build_vocab(train_data, max_size = VOCABULARY_SIZE)\n",
    "LABEL.build_vocab(train_data)\n",
    "\n",
    "print(f'vocabulary size: {len(TEXT.vocab)}')\n",
    "print(f'Label Size: {len(LABEL.vocab)}')"
   ]
  },
  {
   "cell_type": "markdown",
   "metadata": {
    "id": "iPiUhlpnV9hs"
   },
   "source": [
    " 2 extra value in vocabulary is because added (unknown) and (padding)"
   ]
  },
  {
   "cell_type": "code",
   "execution_count": 78,
   "metadata": {
    "colab": {
     "base_uri": "https://localhost:8080/"
    },
    "execution": {
     "iopub.execute_input": "2022-01-22T15:56:43.690179Z",
     "iopub.status.busy": "2022-01-22T15:56:43.689727Z",
     "iopub.status.idle": "2022-01-22T15:56:43.726493Z",
     "shell.execute_reply": "2022-01-22T15:56:43.725793Z",
     "shell.execute_reply.started": "2022-01-22T15:56:43.690127Z"
    },
    "id": "Ai_cAil4V9hs",
    "outputId": "d85d87e4-7498-4650-ed1c-f71820e34fdc"
   },
   "outputs": [
    {
     "name": "stdout",
     "output_type": "stream",
     "text": [
      "[('the', 392110), (',', 371221), ('.', 320075), ('a', 210542), ('and', 210314), ('of', 195115), ('to', 180616), ('is', 146429), ('in', 118677), ('I', 106550), ('it', 103775), ('that', 94301), ('\"', 86391), (\"'s\", 82965), ('this', 82095), ('-', 70222), ('/><br', 69261), ('was', 67888), ('as', 58025), ('movie', 57912), ('with', 57762), ('for', 56443), ('film', 52340), ('The', 51295), ('but', 46913)]\n"
     ]
    }
   ],
   "source": [
    "# Print the most common words: Use the most_common method of the TEXT vocabulary\n",
    "most_common_words = TEXT.vocab.freqs.most_common(25)\n",
    "print(most_common_words)"
   ]
  },
  {
   "cell_type": "code",
   "execution_count": 79,
   "metadata": {
    "colab": {
     "base_uri": "https://localhost:8080/"
    },
    "execution": {
     "iopub.execute_input": "2022-01-22T15:56:43.727759Z",
     "iopub.status.busy": "2022-01-22T15:56:43.727533Z",
     "iopub.status.idle": "2022-01-22T15:56:43.733148Z",
     "shell.execute_reply": "2022-01-22T15:56:43.732231Z",
     "shell.execute_reply.started": "2022-01-22T15:56:43.727727Z"
    },
    "id": "dfJgx_AwV9ht",
    "outputId": "7ecf3e80-387c-4b1f-be37-695b548b5aeb"
   },
   "outputs": [
    {
     "name": "stdout",
     "output_type": "stream",
     "text": [
      "['<unk>', '<pad>', 'the', ',', '.', 'a', 'and', 'of', 'to', 'is', 'in', 'I', 'it', 'that', '\"', \"'s\", 'this', '-', '/><br', 'was']\n"
     ]
    }
   ],
   "source": [
    "# Token corresponding to first 10 Indices\n",
    "\n",
    "print(TEXT.vocab.itos[:20]) #itos = Integer to string"
   ]
  },
  {
   "cell_type": "markdown",
   "metadata": {
    "id": "m8UoTVS-V9ht"
   },
   "source": [
    "# Data Preparation for Batch wise Implimentation"
   ]
  },
  {
   "cell_type": "code",
   "execution_count": 80,
   "metadata": {
    "execution": {
     "iopub.execute_input": "2022-01-22T15:56:43.760843Z",
     "iopub.status.busy": "2022-01-22T15:56:43.760082Z",
     "iopub.status.idle": "2022-01-22T15:56:43.766731Z",
     "shell.execute_reply": "2022-01-22T15:56:43.766017Z",
     "shell.execute_reply.started": "2022-01-22T15:56:43.760804Z"
    },
    "id": "l1v2_-mnV9ht"
   },
   "outputs": [],
   "source": [
    "# Define Dataloader\n",
    "\n",
    "train_loader, valid_loader, test_loader = torchtext.legacy.data.BucketIterator.splits(\n",
    "        (train_data, val_data, test_data), ### ADD YOUR SPLIT DATA HERE (Make sure you add it in a tuple) ###\n",
    "        batch_size = BATCH_SIZE, ### ADD YOUR BATCH SIZE HERE ###\n",
    "        sort_within_batch = True, ### ADD YOUR SORT WITHIN BATCH HERE ### \n",
    "        sort_key = lambda x : len(x.TEXT_COLUMN_NAME), \n",
    "        #device = DEVICE\n",
    "        shuffle = True\n",
    "    )"
   ]
  },
  {
   "cell_type": "code",
   "execution_count": 81,
   "metadata": {
    "colab": {
     "base_uri": "https://localhost:8080/"
    },
    "execution": {
     "iopub.execute_input": "2022-01-22T15:56:43.768827Z",
     "iopub.status.busy": "2022-01-22T15:56:43.768197Z",
     "iopub.status.idle": "2022-01-22T15:56:43.900963Z",
     "shell.execute_reply": "2022-01-22T15:56:43.900283Z",
     "shell.execute_reply.started": "2022-01-22T15:56:43.768790Z"
    },
    "id": "qiuRdJv5V9hu",
    "outputId": "2f1ee62b-b0c4-424a-aca3-34c6f9cd092d"
   },
   "outputs": [
    {
     "name": "stdout",
     "output_type": "stream",
     "text": [
      "Train\n",
      "Text matrix size: torch.Size([252, 128])\n",
      "Target vector size: torch.Size([128])\n",
      "\n",
      "Valid:\n",
      "Text matrix size: torch.Size([57, 128])\n",
      "Target vector size: torch.Size([128])\n",
      "\n",
      "Test:\n",
      "Text matrix size: torch.Size([51, 128])\n",
      "Target vector size: torch.Size([128])\n"
     ]
    }
   ],
   "source": [
    "# Testing the iterators (note that the number of rows depends on the longest document in the respective batch):\n",
    "\n",
    "print('Train')\n",
    "for batch in train_loader:\n",
    "    print(f'Text matrix size: {batch.TEXT_COLUMN_NAME.size()}')\n",
    "    print(f'Target vector size: {batch.LABEL_COLUMN_NAME.size()}')\n",
    "    break\n",
    "    \n",
    "print('\\nValid:')\n",
    "for batch in valid_loader:\n",
    "    print(f'Text matrix size: {batch.TEXT_COLUMN_NAME.size()}')\n",
    "    print(f'Target vector size: {batch.LABEL_COLUMN_NAME.size()}')\n",
    "    break\n",
    "    \n",
    "print('\\nTest:')\n",
    "for batch in test_loader:\n",
    "    print(f'Text matrix size: {batch.TEXT_COLUMN_NAME.size()}')\n",
    "    print(f'Target vector size: {batch.LABEL_COLUMN_NAME.size()}')\n",
    "    break"
   ]
  },
  {
   "cell_type": "code",
   "execution_count": 82,
   "metadata": {
    "execution": {
     "iopub.execute_input": "2022-01-22T15:56:43.902778Z",
     "iopub.status.busy": "2022-01-22T15:56:43.902325Z",
     "iopub.status.idle": "2022-01-22T15:56:43.909421Z",
     "shell.execute_reply": "2022-01-22T15:56:43.908776Z",
     "shell.execute_reply.started": "2022-01-22T15:56:43.902740Z"
    },
    "id": "FwScRWiJV9hu"
   },
   "outputs": [],
   "source": [
    "train_loader, valid_loader, test_loader = torchtext.legacy.data.BucketIterator.splits(\n",
    "        (train_data, val_data, test_data ), ### ADD YOUR SPLIT DATA HERE (Make sure you add it in a tuple) ###\n",
    "        batch_size = BATCH_SIZE, ### ADD YOUR BATCH SIZE HERE ###\n",
    "        sort_within_batch = True, ### ADD YOUR SORT WITHIN BATCH HERE ###\n",
    "        sort_key = lambda x : len(x.TEXT_COLUMN_NAME),\n",
    "        device = DEVICE,\n",
    "        shuffle = True\n",
    "    )"
   ]
  },
  {
   "cell_type": "code",
   "execution_count": 82,
   "metadata": {
    "id": "zHNBV0P53i3I"
   },
   "outputs": [],
   "source": []
  },
  {
   "cell_type": "markdown",
   "metadata": {
    "id": "1NJZx9a4V9hv"
   },
   "source": [
    "# Model Building"
   ]
  },
  {
   "cell_type": "code",
   "execution_count": 83,
   "metadata": {
    "execution": {
     "iopub.execute_input": "2022-01-22T15:56:43.910544Z",
     "iopub.status.busy": "2022-01-22T15:56:43.910274Z",
     "iopub.status.idle": "2022-01-22T15:56:43.920687Z",
     "shell.execute_reply": "2022-01-22T15:56:43.919977Z",
     "shell.execute_reply.started": "2022-01-22T15:56:43.910510Z"
    },
    "id": "waafh_KbV9hv"
   },
   "outputs": [],
   "source": [
    "class RNN(torch.nn.Module):\n",
    "    \n",
    "    def __init__(self, input_dim, embedding_dim, hidden_dim, output_dim):\n",
    "        super().__init__()\n",
    "        ### ADD YOUR CODE HERE ###\n",
    "        self.embedding = torch.nn.Embedding(input_dim, embedding_dim)\n",
    "        \n",
    "        self.rnn = torch.nn.RNN(embedding_dim, hidden_dim)\n",
    "        \n",
    "        self.fc = torch.nn.Linear(hidden_dim, output_dim)\n",
    "\n",
    "        self.sig = torch.nn.Sigmoid()\n",
    "        \n",
    "        ### END YOUR CODE ### \n",
    "\n",
    "    def forward(self, text):\n",
    "        ### ADD YOUR CODE HERE ###\n",
    "        # text dim: [sentence length, batch size]\n",
    "        embedded = self.embedding(text)\n",
    "        \n",
    "        # embedded dim: [sentence length, batch size, embedding dim]\n",
    "        output, hidden = self.rnn(embedded)\n",
    "\n",
    "        # output dim: [sentence length, batch size, hidden dim]\n",
    "        # hidden dim: [1, batch size, hidden dim]\n",
    "       \n",
    "        hidden.squeeze(0)\n",
    "\n",
    "        # hidden dim: [batch size, hidden dim]\n",
    "        output = self.fc(hidden.squeeze(0))\n",
    "        output = self.sig(output)\n",
    "\n",
    "       # sig_out = output.view(BATCH_SIZE, -1)\n",
    "       # sig_out = sig_out[:, -1]\n",
    "        \n",
    "        ### END YOUR CODE ###\n",
    "        return output"
   ]
  },
  {
   "cell_type": "code",
   "execution_count": 84,
   "metadata": {
    "execution": {
     "iopub.execute_input": "2022-01-22T15:56:43.922337Z",
     "iopub.status.busy": "2022-01-22T15:56:43.921742Z",
     "iopub.status.idle": "2022-01-22T15:56:51.579010Z",
     "shell.execute_reply": "2022-01-22T15:56:51.578073Z",
     "shell.execute_reply.started": "2022-01-22T15:56:43.922287Z"
    },
    "id": "AOPV0lfXV9hv"
   },
   "outputs": [],
   "source": [
    "torch.manual_seed(RANDOM_SEED)\n",
    "model = RNN(input_dim= len(TEXT.vocab), ### ADD YOUR INPUT DIM HERE. This can be the length of your vocabulary or the embedding dim ###\n",
    "            embedding_dim= EMBEDDING_DIM, ### ADD YOUR EMBEDDING DIM HERE ###\n",
    "            hidden_dim= HIDDEN_DIM, ### ADD YOUR HIDDEN DIM HERE ###\n",
    "            output_dim= 1  ### ADD NUMBER OF CLASSES HERE ###\n",
    ")\n",
    "\n",
    "model = model.to(DEVICE)\n",
    "optimizer = torch.optim.Adam(model.parameters()) ### ADD YOUR OPTIMIZER HERE ###\n",
    "criterion = torch.nn.BCELoss()"
   ]
  },
  {
   "cell_type": "markdown",
   "metadata": {
    "id": "s2GQJTG-V9hw"
   },
   "source": [
    "# Define Accuracy"
   ]
  },
  {
   "cell_type": "code",
   "execution_count": 85,
   "metadata": {
    "execution": {
     "iopub.execute_input": "2022-01-22T15:56:51.581205Z",
     "iopub.status.busy": "2022-01-22T15:56:51.580712Z",
     "iopub.status.idle": "2022-01-22T15:56:51.589897Z",
     "shell.execute_reply": "2022-01-22T15:56:51.588931Z",
     "shell.execute_reply.started": "2022-01-22T15:56:51.581131Z"
    },
    "id": "nTErUe-CV9hw"
   },
   "outputs": [],
   "source": [
    "def compute_accuracy(model, data_loader, device):\n",
    "\n",
    "    with torch.no_grad():\n",
    "\n",
    "        correct_pred, num_examples = 0, 0\n",
    "\n",
    "        for i, (features, targets) in enumerate(data_loader):\n",
    "\n",
    "            features = features.to(device)\n",
    "            targets = targets.float().to(device)\n",
    "\n",
    "            logits = model(features)\n",
    "            _, predicted_labels = torch.max(logits, 1)\n",
    "\n",
    "            num_examples += targets.size(0)\n",
    "            correct_pred += (predicted_labels == targets).sum()\n",
    "    return correct_pred.float()/num_examples * 100"
   ]
  },
  {
   "cell_type": "code",
   "execution_count": 86,
   "metadata": {
    "colab": {
     "base_uri": "https://localhost:8080/"
    },
    "id": "iyl5LDWnLbHF",
    "outputId": "e21a9d7f-84d7-416f-a3e6-cbcfe4b7b802"
   },
   "outputs": [
    {
     "name": "stdout",
     "output_type": "stream",
     "text": [
      "RNN(\n",
      "  (embedding): Embedding(20002, 500)\n",
      "  (rnn): RNN(500, 256)\n",
      "  (fc): Linear(in_features=256, out_features=1, bias=True)\n",
      "  (sig): Sigmoid()\n",
      ")\n"
     ]
    }
   ],
   "source": [
    "print(model)"
   ]
  },
  {
   "cell_type": "markdown",
   "metadata": {
    "id": "YjtmXaexV9hw"
   },
   "source": [
    "# Model Run"
   ]
  },
  {
   "cell_type": "code",
   "execution_count": 87,
   "metadata": {
    "colab": {
     "base_uri": "https://localhost:8080/"
    },
    "execution": {
     "iopub.execute_input": "2022-01-22T15:56:51.596066Z",
     "iopub.status.busy": "2022-01-22T15:56:51.595269Z",
     "iopub.status.idle": "2022-01-22T16:41:22.979843Z",
     "shell.execute_reply": "2022-01-22T16:41:22.979001Z",
     "shell.execute_reply.started": "2022-01-22T15:56:51.596024Z"
    },
    "id": "3kf0u3dfV9hw",
    "outputId": "6a9be8ee-2a1d-4ee9-c327-a9b30bd03775"
   },
   "outputs": [
    {
     "name": "stdout",
     "output_type": "stream",
     "text": [
      "Epoch: 001/020 | Batch 000/266 | Loss: 0.6890\n",
      "Epoch: 001/020 | Batch 050/266 | Loss: 0.6935\n",
      "Epoch: 001/020 | Batch 100/266 | Loss: 0.6888\n",
      "Epoch: 001/020 | Batch 150/266 | Loss: 0.7047\n",
      "Epoch: 001/020 | Batch 200/266 | Loss: 0.6888\n",
      "Epoch: 001/020 | Batch 250/266 | Loss: 0.6949\n",
      "training accuracy: 50.07%\n",
      "valid accuracy: 50.73%\n",
      "Time elapsed: 0.45 min\n",
      "Epoch: 002/020 | Batch 000/266 | Loss: 0.6885\n",
      "Epoch: 002/020 | Batch 050/266 | Loss: 0.7030\n",
      "Epoch: 002/020 | Batch 100/266 | Loss: 0.6723\n",
      "Epoch: 002/020 | Batch 150/266 | Loss: 0.6751\n",
      "Epoch: 002/020 | Batch 200/266 | Loss: 0.6887\n",
      "Epoch: 002/020 | Batch 250/266 | Loss: 0.7021\n",
      "training accuracy: 50.07%\n",
      "valid accuracy: 50.73%\n",
      "Time elapsed: 0.90 min\n",
      "Epoch: 003/020 | Batch 000/266 | Loss: 0.6824\n",
      "Epoch: 003/020 | Batch 050/266 | Loss: 0.6732\n",
      "Epoch: 003/020 | Batch 100/266 | Loss: 0.7159\n",
      "Epoch: 003/020 | Batch 150/266 | Loss: 0.6902\n",
      "Epoch: 003/020 | Batch 200/266 | Loss: 0.6825\n",
      "Epoch: 003/020 | Batch 250/266 | Loss: 0.6938\n",
      "training accuracy: 50.07%\n",
      "valid accuracy: 50.73%\n",
      "Time elapsed: 1.35 min\n",
      "Epoch: 004/020 | Batch 000/266 | Loss: 0.6391\n",
      "Epoch: 004/020 | Batch 050/266 | Loss: 0.6722\n",
      "Epoch: 004/020 | Batch 100/266 | Loss: 0.6830\n",
      "Epoch: 004/020 | Batch 150/266 | Loss: 0.6631\n",
      "Epoch: 004/020 | Batch 200/266 | Loss: 0.6834\n",
      "Epoch: 004/020 | Batch 250/266 | Loss: 0.6029\n",
      "training accuracy: 50.07%\n",
      "valid accuracy: 50.73%\n",
      "Time elapsed: 1.80 min\n",
      "Epoch: 005/020 | Batch 000/266 | Loss: 0.6527\n",
      "Epoch: 005/020 | Batch 050/266 | Loss: 0.6258\n",
      "Epoch: 005/020 | Batch 100/266 | Loss: 0.6710\n",
      "Epoch: 005/020 | Batch 150/266 | Loss: 0.5953\n",
      "Epoch: 005/020 | Batch 200/266 | Loss: 0.5994\n",
      "Epoch: 005/020 | Batch 250/266 | Loss: 0.6880\n",
      "training accuracy: 50.07%\n",
      "valid accuracy: 50.73%\n",
      "Time elapsed: 2.25 min\n",
      "Epoch: 006/020 | Batch 000/266 | Loss: 0.6182\n",
      "Epoch: 006/020 | Batch 050/266 | Loss: 0.7602\n",
      "Epoch: 006/020 | Batch 100/266 | Loss: 0.6009\n",
      "Epoch: 006/020 | Batch 150/266 | Loss: 0.6607\n",
      "Epoch: 006/020 | Batch 200/266 | Loss: 0.6799\n",
      "Epoch: 006/020 | Batch 250/266 | Loss: 0.6532\n",
      "training accuracy: 50.07%\n",
      "valid accuracy: 50.73%\n",
      "Time elapsed: 2.70 min\n",
      "Epoch: 007/020 | Batch 000/266 | Loss: 0.5624\n",
      "Epoch: 007/020 | Batch 050/266 | Loss: 0.6720\n",
      "Epoch: 007/020 | Batch 100/266 | Loss: 0.6967\n",
      "Epoch: 007/020 | Batch 150/266 | Loss: 0.5764\n",
      "Epoch: 007/020 | Batch 200/266 | Loss: 0.5626\n",
      "Epoch: 007/020 | Batch 250/266 | Loss: 0.6203\n",
      "training accuracy: 50.07%\n",
      "valid accuracy: 50.73%\n",
      "Time elapsed: 3.14 min\n",
      "Epoch: 008/020 | Batch 000/266 | Loss: 0.5166\n",
      "Epoch: 008/020 | Batch 050/266 | Loss: 0.4804\n",
      "Epoch: 008/020 | Batch 100/266 | Loss: 0.7086\n",
      "Epoch: 008/020 | Batch 150/266 | Loss: 0.6364\n",
      "Epoch: 008/020 | Batch 200/266 | Loss: 0.7235\n",
      "Epoch: 008/020 | Batch 250/266 | Loss: 0.6376\n",
      "training accuracy: 50.07%\n",
      "valid accuracy: 50.73%\n",
      "Time elapsed: 3.59 min\n",
      "Epoch: 009/020 | Batch 000/266 | Loss: 0.7035\n",
      "Epoch: 009/020 | Batch 050/266 | Loss: 0.5920\n",
      "Epoch: 009/020 | Batch 100/266 | Loss: 0.5519\n",
      "Epoch: 009/020 | Batch 150/266 | Loss: 0.7836\n",
      "Epoch: 009/020 | Batch 200/266 | Loss: 0.5587\n",
      "Epoch: 009/020 | Batch 250/266 | Loss: 0.6552\n",
      "training accuracy: 50.07%\n",
      "valid accuracy: 50.73%\n",
      "Time elapsed: 4.03 min\n",
      "Epoch: 010/020 | Batch 000/266 | Loss: 0.4480\n",
      "Epoch: 010/020 | Batch 050/266 | Loss: 0.7107\n",
      "Epoch: 010/020 | Batch 100/266 | Loss: 0.6853\n",
      "Epoch: 010/020 | Batch 150/266 | Loss: 0.6634\n",
      "Epoch: 010/020 | Batch 200/266 | Loss: 0.6601\n",
      "Epoch: 010/020 | Batch 250/266 | Loss: 0.6705\n",
      "training accuracy: 50.07%\n",
      "valid accuracy: 50.73%\n",
      "Time elapsed: 4.48 min\n",
      "Epoch: 011/020 | Batch 000/266 | Loss: 0.5850\n",
      "Epoch: 011/020 | Batch 050/266 | Loss: 0.6042\n",
      "Epoch: 011/020 | Batch 100/266 | Loss: 0.5285\n",
      "Epoch: 011/020 | Batch 150/266 | Loss: 0.5145\n",
      "Epoch: 011/020 | Batch 200/266 | Loss: 0.7344\n",
      "Epoch: 011/020 | Batch 250/266 | Loss: 0.4488\n",
      "training accuracy: 50.07%\n",
      "valid accuracy: 50.73%\n",
      "Time elapsed: 4.93 min\n",
      "Epoch: 012/020 | Batch 000/266 | Loss: 0.4174\n",
      "Epoch: 012/020 | Batch 050/266 | Loss: 0.4769\n",
      "Epoch: 012/020 | Batch 100/266 | Loss: 0.3888\n",
      "Epoch: 012/020 | Batch 150/266 | Loss: 0.4079\n",
      "Epoch: 012/020 | Batch 200/266 | Loss: 0.4657\n",
      "Epoch: 012/020 | Batch 250/266 | Loss: 0.5075\n",
      "training accuracy: 50.07%\n",
      "valid accuracy: 50.73%\n",
      "Time elapsed: 5.37 min\n",
      "Epoch: 013/020 | Batch 000/266 | Loss: 0.3858\n",
      "Epoch: 013/020 | Batch 050/266 | Loss: 0.6798\n",
      "Epoch: 013/020 | Batch 100/266 | Loss: 0.5299\n",
      "Epoch: 013/020 | Batch 150/266 | Loss: 0.3951\n",
      "Epoch: 013/020 | Batch 200/266 | Loss: 0.6854\n",
      "Epoch: 013/020 | Batch 250/266 | Loss: 0.5906\n",
      "training accuracy: 50.07%\n",
      "valid accuracy: 50.73%\n",
      "Time elapsed: 5.82 min\n",
      "Epoch: 014/020 | Batch 000/266 | Loss: 0.5120\n",
      "Epoch: 014/020 | Batch 050/266 | Loss: 0.7011\n",
      "Epoch: 014/020 | Batch 100/266 | Loss: 0.5468\n",
      "Epoch: 014/020 | Batch 150/266 | Loss: 0.6476\n",
      "Epoch: 014/020 | Batch 200/266 | Loss: 0.6887\n",
      "Epoch: 014/020 | Batch 250/266 | Loss: 0.5357\n",
      "training accuracy: 50.07%\n",
      "valid accuracy: 50.73%\n",
      "Time elapsed: 6.27 min\n",
      "Epoch: 015/020 | Batch 000/266 | Loss: 0.5895\n",
      "Epoch: 015/020 | Batch 050/266 | Loss: 0.6087\n",
      "Epoch: 015/020 | Batch 100/266 | Loss: 0.3533\n",
      "Epoch: 015/020 | Batch 150/266 | Loss: 0.5729\n",
      "Epoch: 015/020 | Batch 200/266 | Loss: 0.7129\n",
      "Epoch: 015/020 | Batch 250/266 | Loss: 0.5313\n",
      "training accuracy: 50.07%\n",
      "valid accuracy: 50.73%\n",
      "Time elapsed: 6.72 min\n",
      "Epoch: 016/020 | Batch 000/266 | Loss: 0.6963\n",
      "Epoch: 016/020 | Batch 050/266 | Loss: 0.6859\n",
      "Epoch: 016/020 | Batch 100/266 | Loss: 0.5639\n",
      "Epoch: 016/020 | Batch 150/266 | Loss: 0.5633\n",
      "Epoch: 016/020 | Batch 200/266 | Loss: 0.6663\n",
      "Epoch: 016/020 | Batch 250/266 | Loss: 0.6999\n",
      "training accuracy: 50.07%\n",
      "valid accuracy: 50.73%\n",
      "Time elapsed: 7.17 min\n",
      "Epoch: 017/020 | Batch 000/266 | Loss: 0.6583\n",
      "Epoch: 017/020 | Batch 050/266 | Loss: 0.6033\n",
      "Epoch: 017/020 | Batch 100/266 | Loss: 0.6710\n",
      "Epoch: 017/020 | Batch 150/266 | Loss: 0.5795\n",
      "Epoch: 017/020 | Batch 200/266 | Loss: 0.6208\n",
      "Epoch: 017/020 | Batch 250/266 | Loss: 0.6633\n",
      "training accuracy: 50.07%\n",
      "valid accuracy: 50.73%\n",
      "Time elapsed: 7.62 min\n",
      "Epoch: 018/020 | Batch 000/266 | Loss: 0.5439\n",
      "Epoch: 018/020 | Batch 050/266 | Loss: 0.6883\n",
      "Epoch: 018/020 | Batch 100/266 | Loss: 0.6507\n",
      "Epoch: 018/020 | Batch 150/266 | Loss: 0.5203\n",
      "Epoch: 018/020 | Batch 200/266 | Loss: 0.5997\n",
      "Epoch: 018/020 | Batch 250/266 | Loss: 0.5390\n",
      "training accuracy: 50.07%\n",
      "valid accuracy: 50.73%\n",
      "Time elapsed: 8.07 min\n",
      "Epoch: 019/020 | Batch 000/266 | Loss: 0.4649\n",
      "Epoch: 019/020 | Batch 050/266 | Loss: 0.3936\n",
      "Epoch: 019/020 | Batch 100/266 | Loss: 0.6092\n",
      "Epoch: 019/020 | Batch 150/266 | Loss: 0.6446\n",
      "Epoch: 019/020 | Batch 200/266 | Loss: 0.6490\n",
      "Epoch: 019/020 | Batch 250/266 | Loss: 0.4080\n",
      "training accuracy: 50.07%\n",
      "valid accuracy: 50.73%\n",
      "Time elapsed: 8.51 min\n",
      "Epoch: 020/020 | Batch 000/266 | Loss: 0.5801\n",
      "Epoch: 020/020 | Batch 050/266 | Loss: 0.4304\n",
      "Epoch: 020/020 | Batch 100/266 | Loss: 0.5582\n",
      "Epoch: 020/020 | Batch 150/266 | Loss: 0.5487\n",
      "Epoch: 020/020 | Batch 200/266 | Loss: 0.6880\n",
      "Epoch: 020/020 | Batch 250/266 | Loss: 0.5367\n",
      "training accuracy: 50.07%\n",
      "valid accuracy: 50.73%\n",
      "Time elapsed: 8.96 min\n",
      "Total Training Time: 8.96 min\n",
      "Test accuracy: 49.32%\n"
     ]
    }
   ],
   "source": [
    "start_time = time.time()\n",
    "\n",
    "for epoch in range(NUM_EPOCHS):\n",
    "    model.train()\n",
    "    for batch_idx, batch_data in enumerate(train_loader):\n",
    "        \n",
    "        text = batch_data.TEXT_COLUMN_NAME.to(DEVICE)\n",
    "        labels = batch_data.LABEL_COLUMN_NAME.to(DEVICE)\n",
    "\n",
    "        ### FORWARD AND BACK PROP\n",
    "\n",
    "        optimizer.zero_grad()\n",
    "                \n",
    "        predictions = model(text).squeeze(1)\n",
    "        \n",
    "        loss = criterion(predictions, labels)\n",
    "        \n",
    "        # acc = compute_accuracy(predictions, labels, DEVICE)\n",
    "        \n",
    "        loss.backward()\n",
    "        \n",
    "\n",
    "         ### UPDATE MODEL PARAMETERS\n",
    "        optimizer.step()\n",
    "        \n",
    "        \n",
    "        \n",
    "       \n",
    "        \n",
    "        \n",
    "        ### LOGGING\n",
    "        if not batch_idx % 50:\n",
    "            print (f'Epoch: {epoch+1:03d}/{NUM_EPOCHS:03d} | '\n",
    "                   f'Batch {batch_idx:03d}/{len(train_loader):03d} | '\n",
    "                   f'Loss: {loss:.4f}')\n",
    "\n",
    "    with torch.set_grad_enabled(False):\n",
    "        print(f'training accuracy: '\n",
    "              f'{compute_accuracy(model, train_loader, DEVICE):.2f}%'\n",
    "              f'\\nvalid accuracy: '\n",
    "              f'{compute_accuracy(model, valid_loader, DEVICE):.2f}%')\n",
    "        \n",
    "    print(f'Time elapsed: {(time.time() - start_time)/60:.2f} min')\n",
    "    \n",
    "print(f'Total Training Time: {(time.time() - start_time)/60:.2f} min')\n",
    "print(f'Test accuracy: {compute_accuracy(model, test_loader, DEVICE):.2f}%')"
   ]
  },
  {
   "cell_type": "markdown",
   "metadata": {
    "id": "NWqNPQELV9hx"
   },
   "source": [
    "# Model Testing"
   ]
  },
  {
   "cell_type": "code",
   "execution_count": 88,
   "metadata": {
    "colab": {
     "base_uri": "https://localhost:8080/"
    },
    "execution": {
     "iopub.execute_input": "2022-01-22T16:41:22.981494Z",
     "iopub.status.busy": "2022-01-22T16:41:22.981224Z",
     "iopub.status.idle": "2022-01-22T16:41:23.185798Z",
     "shell.execute_reply": "2022-01-22T16:41:23.185126Z",
     "shell.execute_reply.started": "2022-01-22T16:41:22.981459Z"
    },
    "id": "jJ4clePHV9hx",
    "outputId": "6ff5e72b-8016-4f4c-c611-1c05046741f5"
   },
   "outputs": [
    {
     "name": "stdout",
     "output_type": "stream",
     "text": [
      "Probability positive:\n"
     ]
    },
    {
     "data": {
      "text/plain": [
       "1.0"
      ]
     },
     "execution_count": 88,
     "metadata": {},
     "output_type": "execute_result"
    }
   ],
   "source": [
    "import spacy\n",
    "\n",
    "\n",
    "nlp = spacy.blank(\"en\")\n",
    "\n",
    "def predict_sentiment(model, sentence):\n",
    "\n",
    "    model.eval()\n",
    "    tokenized = [tok.text for tok in nlp.tokenizer(sentence)]\n",
    "    indexed = [TEXT.vocab.stoi[t] for t in tokenized]\n",
    "    length = [len(indexed)]\n",
    "    tensor = torch.LongTensor(indexed).to(DEVICE)\n",
    "    tensor = tensor.unsqueeze(1)\n",
    "    length_tensor = torch.LongTensor(length)\n",
    "    prediction = torch.nn.functional.softmax(model(tensor), dim=1)\n",
    "    return prediction[0].item()\n",
    "\n",
    "print('Probability positive:')\n",
    "predict_sentiment(model, \"This is such an awesome movie, I really love it!\")"
   ]
  },
  {
   "cell_type": "code",
   "execution_count": 89,
   "metadata": {
    "colab": {
     "base_uri": "https://localhost:8080/"
    },
    "execution": {
     "iopub.execute_input": "2022-01-22T16:41:49.753493Z",
     "iopub.status.busy": "2022-01-22T16:41:49.752937Z",
     "iopub.status.idle": "2022-01-22T16:41:49.762087Z",
     "shell.execute_reply": "2022-01-22T16:41:49.761053Z",
     "shell.execute_reply.started": "2022-01-22T16:41:49.753453Z"
    },
    "id": "lqVUBYIJV9hx",
    "outputId": "e44b4cc7-b028-4edb-b90a-b0f03acd05cc"
   },
   "outputs": [
    {
     "name": "stdout",
     "output_type": "stream",
     "text": [
      "Probability positive:\n"
     ]
    },
    {
     "data": {
      "text/plain": [
       "1.0"
      ]
     },
     "execution_count": 89,
     "metadata": {},
     "output_type": "execute_result"
    }
   ],
   "source": [
    "print('Probability positive:')\n",
    "predict_sentiment(model, \"I really hate this movie. It is really bad and sucks!\")"
   ]
  },
  {
   "cell_type": "code",
   "execution_count": 89,
   "metadata": {
    "id": "ih-Q8UnwV9hx"
   },
   "outputs": [],
   "source": []
  }
 ],
 "metadata": {
  "accelerator": "GPU",
  "colab": {
   "collapsed_sections": [],
   "name": "coding_assignment.ipynb",
   "provenance": []
  },
  "kernelspec": {
   "display_name": "Python 3 (ipykernel)",
   "language": "python",
   "name": "python3"
  },
  "language_info": {
   "codemirror_mode": {
    "name": "ipython",
    "version": 3
   },
   "file_extension": ".py",
   "mimetype": "text/x-python",
   "name": "python",
   "nbconvert_exporter": "python",
   "pygments_lexer": "ipython3",
   "version": "3.9.7"
  }
 },
 "nbformat": 4,
 "nbformat_minor": 1
}

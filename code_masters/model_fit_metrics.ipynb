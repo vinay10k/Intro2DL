{
  "cells": [
    {
      "cell_type": "markdown",
      "metadata": {
        "_cell_guid": "85d6e644-627e-45c7-949d-23d11f6fdc61",
        "_uuid": "3eb06d0b1e796353a1eb1a787809d6d79e8ed8fe",
        "id": "KluONAUUaLdR"
      },
      "source": [
        "# Model Fit Metrics\n",
        "\n",
        "Once we've built a model, it's important to understand how well it works. To do so, we evaluate the model against one or more metrics. This notebook is an overview of some of the most common metrics used for regression models.\n",
        "\n",
        "We'll implement the metrics and test them out on a mocked-up regression target."
      ]
    },
    {
      "cell_type": "code",
      "execution_count": 4,
      "metadata": {
        "_cell_guid": "223d8f8f-4e5b-4ce9-bacf-45ecb2679172",
        "_uuid": "2e8f2c9326b0f2d6a4356789b6485be44fa9f175",
        "collapsed": true,
        "id": "iqgTKuZvaLdS"
      },
      "outputs": [],
      "source": [
        "import numpy as np\n",
        "from sklearn.linear_model import LinearRegression\n",
        "import torch\n",
        "clf = LinearRegression()\n",
        "\n",
        "np.random.seed(42)\n",
        "X = (np.array(sorted(list(range(5))*20)) + np.random.normal(size=100, scale=0.5))[:, \n",
        "                                                                                  np.newaxis]\n",
        "y = (np.array(sorted(list(range(5))*20)) + np.random.normal(size=100, scale=0.25))[:, \n",
        "                                                                                   np.newaxis]\n",
        "\n",
        "clf.fit(X, y)\n",
        "y_pred = clf.predict(y)"
      ]
    },
    {
      "cell_type": "markdown",
      "metadata": {
        "_cell_guid": "59998d92-5794-40c9-9a2b-a265567625db",
        "_uuid": "e10b48cb2ba4b7121a7372b92c47bf40693cb1c9",
        "collapsed": true,
        "id": "5UWmjlK8aLdS"
      },
      "source": [
        "## $R^2$\n",
        "\n",
        "### Discussion\n",
        "\n",
        "The first and most immediately useful metric to use in regression is the $R^2$, also known as the coefficient of determination. For a vector of values $y$, a vector of predictions $\\hat{y}$, both of length $n$, and a value average $\\bar{y}$, $R^2$ is determined by:\n",
        "\n",
        "$$R^2(y, \\hat{y}) = 1 - \\frac{\\sum_0^{n-1} (y_i - \\hat{y}_i)^2}{\\sum_0^{n-1}(y_i - \\bar{y})^2}$$\n",
        "\n",
        "The coefficient of determination is a measure of how well future samples will be predicted by the model. The best possible score is 1. A constant model which always predicts the average will recieve a score of 0. A model which is arbitrarily worse than an averaging model will recieve a negative score (this shouldn't happen in practice obviously!).\n",
        "\n",
        "In practice, it is a \"best default\" model score: other metrics may be better to use, depending on what you are optimizing for, but the $R^2$ is just generally very good, and should be the first number you look at in most cases.\n",
        "\n",
        "$R^2$ is such a popular metric that there are artificial $R^2$ scores, designed to work in a similar way but with completely different underlying mathematics, which are defined for other non-regression operations.\n",
        "\n",
        "### Hand Implementation"
      ]
    },
    {
      "cell_type": "code",
      "execution_count": 5,
      "metadata": {
        "_cell_guid": "51aa3413-8fb2-4186-b1c5-b7b6ca8109c0",
        "_uuid": "3327b7d04f592c996c9f2fb3e1e7992178dec8fc",
        "collapsed": true,
        "colab": {
          "base_uri": "https://localhost:8080/"
        },
        "id": "RJkLzwuzaLdT",
        "outputId": "50a16e8c-b62c-4f26-c795-54ad2d216e47"
      },
      "outputs": [
        {
          "output_type": "execute_result",
          "data": {
            "text/plain": [
              "0.9846558399170495"
            ]
          },
          "metadata": {},
          "execution_count": 5
        }
      ],
      "source": [
        "import numpy as np\n",
        "\n",
        "def r2_score(y, y_pred):\n",
        "    #### YOUR CODE HERE ####\n",
        "    return 1- (np.sum((y-y_pred)**2) / np.sum((y-y.mean())**2))\n",
        "    \n",
        "    #### END YOUR CODE ####\n",
        "\n",
        "r2_score(y, y_pred)"
      ]
    },
    {
      "cell_type": "markdown",
      "metadata": {
        "_cell_guid": "3d2d0e9f-5782-4f5b-93f2-c61c326021bb",
        "_uuid": "34997a032079f5aad6690040b001ca97235f5d56",
        "id": "kn2fR6K5aLdT"
      },
      "source": [
        "### Scikit-learn implementation"
      ]
    },
    {
      "cell_type": "code",
      "execution_count": 6,
      "metadata": {
        "_cell_guid": "1d329b6e-1135-4ac9-99ae-8c302ba681fc",
        "_uuid": "d39ab0b34a55351b8e1fae1515fcce0205647079",
        "collapsed": true,
        "colab": {
          "base_uri": "https://localhost:8080/"
        },
        "id": "WcZrwzJoaLdT",
        "outputId": "4ca98beb-7b20-4095-809b-f5915039aab0"
      },
      "outputs": [
        {
          "output_type": "execute_result",
          "data": {
            "text/plain": [
              "0.9846558399170495"
            ]
          },
          "metadata": {},
          "execution_count": 6
        }
      ],
      "source": [
        "from sklearn.metrics import r2_score\n",
        "r2_score(y, y_pred)"
      ]
    },
    {
      "cell_type": "markdown",
      "metadata": {
        "_cell_guid": "a6e65de0-5cea-4708-ba9e-740bc964f424",
        "_uuid": "4d468e2d81fac8dd786924cd7dde325a48d28720",
        "id": "kWh5yBQ1aLdT"
      },
      "source": [
        "## Residual Sum of Squares (RSS)\n",
        "\n",
        "### Discussion\n",
        "\n",
        "The residual sum of squares is the top term in the $R^2$ metric (albeit adjusted by 1 to account for degrees of freedom). It takes the distance between observed and predicted values (the residuals), squares them, and sums them all together. Ordinary least squares regression is designed to minimize exactly *this* value.\n",
        "\n",
        "$$\\text{RSS} = \\sum_0^{n - 1} (y_i - \\hat{y}_i)^2$$\n",
        "\n",
        "RSS is not very interpretable on its own, because it is the sum of many (potentially very large) residuals. For this reason it is rarely used as a metric, but because it is so important to regression, it's often included in statistical fit assays.\n",
        "\n",
        "### Hand Implementation"
      ]
    },
    {
      "cell_type": "code",
      "execution_count": 7,
      "metadata": {
        "_cell_guid": "b30fd2ad-bcf1-41db-bc9f-24cfa1c6c024",
        "_uuid": "0c5be6cc74f8826d57409ad64e91e1efdf957997",
        "collapsed": true,
        "id": "q5hdVTb5aLdU"
      },
      "outputs": [],
      "source": [
        "def rss_score(y, y_pred):\n",
        "   #### YOUR CODE HERE ###\n",
        "   return np.sum((y-y_pred)**2)\n",
        "   \n",
        "   #### END YOUR CODE ####"
      ]
    },
    {
      "cell_type": "code",
      "execution_count": 8,
      "metadata": {
        "_cell_guid": "3ffa2769-f8b7-4659-a7fe-9319334198cf",
        "_uuid": "6e1754657184840dacea2a451472f5017d90e30d",
        "collapsed": true,
        "colab": {
          "base_uri": "https://localhost:8080/"
        },
        "id": "fEgSrRouaLdU",
        "outputId": "16fb872f-fce5-48c9-eac1-2935c591b6aa"
      },
      "outputs": [
        {
          "output_type": "execute_result",
          "data": {
            "text/plain": [
              "3.147418578949139"
            ]
          },
          "metadata": {},
          "execution_count": 8
        }
      ],
      "source": [
        "rss_score(y, y_pred)"
      ]
    },
    {
      "cell_type": "markdown",
      "metadata": {
        "_cell_guid": "2e9f0aab-615a-4ac4-b97d-ba5ac8cb0e81",
        "_uuid": "87d1a331f289a3d00fc0f6ab0f7f21abdb9b7768",
        "id": "MunAqOpaaLdU"
      },
      "source": [
        "There is no `scikit-learn` implementation."
      ]
    },
    {
      "cell_type": "markdown",
      "metadata": {
        "_cell_guid": "10ede6d4-8442-4893-8bbe-4c054854f6e2",
        "_uuid": "bccda872c32806ec93a321dac36a111576fe3cc9",
        "id": "JmZCYfqZaLdU"
      },
      "source": [
        "## Mean Squared Error (MSE)\n",
        "\n",
        "### Discussion\n",
        "\n",
        "Mean squared error is the interpretable version of RSS. MSE divides RSS (again adjusted be 1, to account for degrees of freedom) by the number of samples in the dataset to arrive at the average amount of squared error in the model:\n",
        "\n",
        "$$\\text{MSE} = \\frac{1}{n} \\cdot \\sum_0^{n - 1} (y_i - \\hat{y}_i)^2$$\n",
        "\n",
        "This is easily interpretable, because it makes a lot of intrinsic sense. Ordinary least squares regression asks that we minimize quadratic error; MSE measures, on average, how much such error is left in the model. However, due to the squaring involved, it is not very robust against outliers.\n",
        "\n",
        "### Hand Implementation"
      ]
    },
    {
      "cell_type": "code",
      "execution_count": 10,
      "metadata": {
        "_cell_guid": "4d1b265d-3791-4839-aa38-672d50d5c11a",
        "_uuid": "e138a239acdf8f70553f788523a2abd771df1c06",
        "collapsed": true,
        "colab": {
          "base_uri": "https://localhost:8080/"
        },
        "id": "z42464RfaLdV",
        "outputId": "7333972e-1cc1-4aa7-b91b-1ecad6fe577d"
      },
      "outputs": [
        {
          "output_type": "execute_result",
          "data": {
            "text/plain": [
              "0.03147418578949139"
            ]
          },
          "metadata": {},
          "execution_count": 10
        }
      ],
      "source": [
        "def mean_squared_error(y, y_pred):\n",
        "    ##### YOUR CODE HERE #####\n",
        "    n = y.shape[0]\n",
        "    return 1/n * (np.sum((y - y_pred)**2))\n",
        "    \n",
        "    #### END YOUR CODE ####\n",
        "\n",
        "mean_squared_error(y, y_pred)"
      ]
    },
    {
      "cell_type": "markdown",
      "metadata": {
        "_cell_guid": "495c1e93-d89d-4d25-bad9-10c2e08c3c80",
        "_uuid": "6ef9ffe6d9aa6a34187a2efb45222e3b8b333118",
        "id": "DbM4jiEbaLdV"
      },
      "source": [
        "### Scikit-learn implementation"
      ]
    },
    {
      "cell_type": "code",
      "execution_count": 11,
      "metadata": {
        "_cell_guid": "b749fc0a-c15b-4e2a-8d8d-2ca87d39dd1a",
        "_uuid": "92b28900f503d3cef346bad486f94682addb7c62",
        "collapsed": true,
        "colab": {
          "base_uri": "https://localhost:8080/"
        },
        "id": "hZc5yWvcaLdV",
        "outputId": "ae22cc28-6e28-440f-cfd6-278dc374a42c"
      },
      "outputs": [
        {
          "output_type": "execute_result",
          "data": {
            "text/plain": [
              "0.03147418578949139"
            ]
          },
          "metadata": {},
          "execution_count": 11
        }
      ],
      "source": [
        "from sklearn.metrics import mean_squared_error\n",
        "\n",
        "mean_squared_error(y, y_pred)"
      ]
    },
    {
      "cell_type": "markdown",
      "metadata": {
        "_cell_guid": "06554500-db02-4589-a300-bdc99204e112",
        "_uuid": "c5de41c9d5cef7f8c7c7d7ccfcd555b9a6521045",
        "id": "FOhIvp1EaLdV"
      },
      "source": [
        "## Mean Absolute Error\n",
        "\n",
        "### Discussion\n",
        "\n",
        "Mean absolute error computes the expected absolute error (or [L1-norm loss](https://www.kaggle.com/residentmario/l1-norms-versus-l2-norms)). Because it involves means, not squared residuals, mean absolute error is more resistant to outliers than MSE is.\n",
        "\n",
        "$$\\text{MAE}(y, \\hat{y}) = \\frac{1}{n}\\sum_0^{n-1} | y_i - \\hat{y}_i |$$"
      ]
    },
    {
      "cell_type": "markdown",
      "metadata": {
        "_cell_guid": "5eb08880-4176-481d-8996-d14b1fa29e35",
        "_uuid": "a19802735c9e6f99e3ae05cd2e271a31803266fc",
        "id": "aJhkWJ2HaLdV"
      },
      "source": [
        "### Hand implementation"
      ]
    },
    {
      "cell_type": "code",
      "execution_count": 12,
      "metadata": {
        "_cell_guid": "ebed743e-7b55-4d8f-97d1-81a831afb537",
        "_uuid": "b124f4675eb1360bba7f2179feae96641e85f004",
        "collapsed": true,
        "colab": {
          "base_uri": "https://localhost:8080/"
        },
        "id": "y8edM-WxaLdW",
        "outputId": "9f843593-8cbd-4356-a45a-a54a8a2c6df6"
      },
      "outputs": [
        {
          "output_type": "execute_result",
          "data": {
            "text/plain": [
              "0.15371923162949003"
            ]
          },
          "metadata": {},
          "execution_count": 12
        }
      ],
      "source": [
        "def mean_absolute_error(y, y_pred):\n",
        "    ##### YOUR CODE HERE #####\n",
        "    n = y.shape[0]\n",
        "    return 1/n * np.sum(np.abs(y - y_pred))\n",
        "    \n",
        "    ##### END YOUR CODE #####\n",
        "    \n",
        "mean_absolute_error(y, y_pred)"
      ]
    },
    {
      "cell_type": "markdown",
      "metadata": {
        "_cell_guid": "7671d01d-83ac-4075-8d85-197b5b289cb6",
        "_uuid": "69179640c0227a6c5b2a21282533cd430e9d1b2f",
        "id": "yO-Tp30qaLdW"
      },
      "source": [
        "### Scikit-learn implementation"
      ]
    },
    {
      "cell_type": "code",
      "execution_count": 13,
      "metadata": {
        "_cell_guid": "512ca95c-e3b3-4c9a-9031-a6b89b687bc6",
        "_uuid": "63a14cdaac189a4e1eba53d5637803f4c5b5fd2b",
        "collapsed": true,
        "colab": {
          "base_uri": "https://localhost:8080/"
        },
        "id": "1ahpBSZLaLdW",
        "outputId": "cf7ce330-e76d-46e9-fc6e-1e3ba9db96d8"
      },
      "outputs": [
        {
          "output_type": "execute_result",
          "data": {
            "text/plain": [
              "0.15371923162949003"
            ]
          },
          "metadata": {},
          "execution_count": 13
        }
      ],
      "source": [
        "from sklearn.metrics import mean_absolute_error\n",
        "    \n",
        "mean_absolute_error(y, y_pred)"
      ]
    },
    {
      "cell_type": "markdown",
      "metadata": {
        "_cell_guid": "e8453d4e-741a-4b3f-b0cd-5c25fbef3193",
        "_uuid": "f49ed0035ad6845a1557819b0166adfae429988c",
        "id": "fYXKNwEgaLdW"
      },
      "source": [
        "## Median Absolute Error\n",
        "\n",
        "### Discussion\n",
        "\n",
        "Mean absolute error computes the median absolute error. Because this value is not only an absolute value, but also a median instead of a mode, this metric is the most resistant metric to outliers that's possible using simple methods.\n",
        "\n",
        "$$\\text{Mean Absolute Error} = \\text{median}(|y_0 - \\hat{y}_0, \\ldots, |y_n - \\hat{y}_n|)$$"
      ]
    },
    {
      "cell_type": "markdown",
      "metadata": {
        "_cell_guid": "41dbad57-802d-4be6-b1b2-3051c829d536",
        "_uuid": "a3f19b3a2e81f8d8f0ad6298cac9169c5c3ba45f",
        "id": "1gi3qNv7aLdX"
      },
      "source": [
        "### Hand implementation"
      ]
    },
    {
      "cell_type": "code",
      "execution_count": 22,
      "metadata": {
        "_cell_guid": "cfa12eb2-e414-4a5d-953b-a72e1720d625",
        "_uuid": "27ad3436e1dff2a920f720713cfbc90099416420",
        "collapsed": true,
        "colab": {
          "base_uri": "https://localhost:8080/"
        },
        "id": "rwfNAYQ5aLdX",
        "outputId": "bbe4a889-9c77-41e8-ce29-809aea780dfe"
      },
      "outputs": [
        {
          "output_type": "execute_result",
          "data": {
            "text/plain": [
              "0.15371923162949003"
            ]
          },
          "metadata": {},
          "execution_count": 22
        }
      ],
      "source": [
        "def median_absolute_error(y, y_pred):\n",
        "    #### YOUR CODE HERE #### \n",
        "    return np.median(np.abs(y-y_pred))\n",
        "    #### END YOUR CODE ####\n",
        "    \n",
        "mean_absolute_error(y, y_pred)"
      ]
    },
    {
      "cell_type": "markdown",
      "metadata": {
        "_cell_guid": "f978d9c2-9105-4ed0-b034-d5624d1e8903",
        "_uuid": "5fd0c97e454e432c4309775b51c4121cb64e0b76",
        "id": "8R2OGC4daLdX"
      },
      "source": [
        "### Scikit-learn implementation"
      ]
    },
    {
      "cell_type": "code",
      "execution_count": 23,
      "metadata": {
        "_cell_guid": "376b3dd6-f3f9-4866-8a8c-e83c305cd99d",
        "_uuid": "95925a3f42c1b64bd2de51da222483bbaeeef832",
        "collapsed": true,
        "colab": {
          "base_uri": "https://localhost:8080/"
        },
        "id": "CMh3XmjSaLdX",
        "outputId": "3305b5e1-799b-41c3-e5e1-f739483f2da9"
      },
      "outputs": [
        {
          "output_type": "execute_result",
          "data": {
            "text/plain": [
              "0.15514813323997423"
            ]
          },
          "metadata": {},
          "execution_count": 23
        }
      ],
      "source": [
        "from sklearn.metrics import median_absolute_error\n",
        "\n",
        "median_absolute_error(y, y_pred)"
      ]
    },
    {
      "cell_type": "markdown",
      "metadata": {
        "_cell_guid": "2c63e96d-24e6-4b32-ac63-5fd370b30878",
        "_uuid": "289e05643a74192b72b0d2144dcc752a032c0a6f",
        "id": "M-_IGZhPaLdX"
      },
      "source": [
        "## Root mean squared error (RMSE)\n",
        "\n",
        "### Discussion\n",
        "\n",
        "Root mean squared error is an error metric that's popular in the literature. It is defined as the square root of mean squared error:\n",
        "\n",
        "$$\\text{RMSE} = \\sqrt{\\text{MSE}} = \\sqrt{\\frac{1}{n}\\sum_0^{n - 1} (y_i - \\hat{y}_i)^2}$$\n",
        "\n",
        "Since this is just the root of the MSE metric mentioned earlier, we will omit an implementation.\n",
        "\n",
        "RMSE is directly comparable to, and serves a similar role as, the MAE, mean absolute error. The difference between the two computationally speaking is that MAE takes the square root of the distance inside the sum, while RMSE takes the square root outside the sum.\n",
        "\n",
        "The computational effect is that RMSE is less resistant to outliers, and thus reports a poorer-fitting model when outliers are not properly accounted for. This is considered a good thing when doing cetain things, like performing hyperparameter searches. However, MAE is a more useful reporting statistic because MAE is *interpretable*, while RMSE is not.\n",
        "\n",
        "Context for this comparison [here](https://medium.com/human-in-a-machine-world/mae-and-rmse-which-metric-is-better-e60ac3bde13d).\n",
        "\n",
        "Note that `scikit-learn` doesn't provide a RMSE evaluator directly..."
      ]
    },
    {
      "cell_type": "markdown",
      "metadata": {
        "_cell_guid": "0270d3c3-2f90-482f-8c56-32fb4c88cec8",
        "_uuid": "5124d682a6dcad6fea9b4d9fa0b44244218b8eba",
        "id": "NcSDt5o2aLdX"
      },
      "source": [
        "## Explained variance score\n",
        "\n",
        "### Discussion\n",
        "\n",
        "The explained variance score is a very clever (IMO) metric which looks at the ratio between the variance of the model/truth differences and the variance of the ground truth alone:\n",
        "\n",
        "$$\\text{explained variance}(y, \\hat{y}) = 1 - \\frac{Var({y}) - Var(\\hat{y})}{Var(y)}$$\n",
        "\n",
        "Hence the moniker \"explained variance\". The best possible score is 1 (all variance is explained) and the score goes down from there. A further reference on explained variance is [here](https://assessingpsyche.wordpress.com/2014/07/10/two-visualizations-for-explaining-variance-explained/)."
      ]
    },
    {
      "cell_type": "markdown",
      "metadata": {
        "_cell_guid": "9f3ffb79-7765-4e94-a010-fd8479e94bb6",
        "_uuid": "6e925bf5ea21c80699e817a09570900e53ad9be4",
        "id": "MXsln4IqaLdY"
      },
      "source": [
        "### Hand implementation"
      ]
    },
    {
      "cell_type": "code",
      "execution_count": 21,
      "metadata": {
        "_cell_guid": "26530a33-bbb3-450b-96e7-190cc3769f62",
        "_uuid": "e86fc8d2e7bfc86fe38fc5f7713df79047116e91",
        "collapsed": true,
        "colab": {
          "base_uri": "https://localhost:8080/"
        },
        "id": "BF5E2Sh-aLdY",
        "outputId": "6221fca7-83aa-4921-c6bf-b5112446cacc"
      },
      "outputs": [
        {
          "output_type": "execute_result",
          "data": {
            "text/plain": [
              "0.9859076890259523"
            ]
          },
          "metadata": {},
          "execution_count": 21
        }
      ],
      "source": [
        "def explained_variance_score(y, y_pred):\n",
        "    ###### YOUR CODE HERE ######\n",
        "    return 1 - ((np.var(y - y_pred))/np.var(y))\n",
        "    ###### END YOUR CODE ######\n",
        "\n",
        "explained_variance_score(y, y_pred)"
      ]
    },
    {
      "cell_type": "markdown",
      "metadata": {
        "_cell_guid": "0908ccca-7b3b-4038-aeaa-4a0d4a0980b3",
        "_uuid": "b6bad04c4282baa3e38187f79447947becdf0cf8",
        "id": "Aq_2XS-XaLdY"
      },
      "source": [
        "### Scikit-learn implementation"
      ]
    },
    {
      "cell_type": "code",
      "execution_count": 20,
      "metadata": {
        "_cell_guid": "9dd44f71-6672-4dad-837b-082124b3d117",
        "_uuid": "e1517e99e362a7d06cd562f2572039b6a5168200",
        "collapsed": true,
        "colab": {
          "base_uri": "https://localhost:8080/"
        },
        "id": "ag2-l7uSaLdY",
        "outputId": "abb4df01-eefb-491a-f923-6475904cdf19"
      },
      "outputs": [
        {
          "output_type": "execute_result",
          "data": {
            "text/plain": [
              "0.9859076890259523"
            ]
          },
          "metadata": {},
          "execution_count": 20
        }
      ],
      "source": [
        "from sklearn.metrics import explained_variance_score\n",
        "\n",
        "explained_variance_score(y, y_pred)"
      ]
    },
    {
      "cell_type": "markdown",
      "metadata": {
        "id": "R4gPF6F4aLdY"
      },
      "source": [
        "# Bonus:\n",
        "\n",
        "Open [Catalyst Metrics](https://catalyst-team.github.io/catalyst/api/metrics.html#runner-metrics) Implement the following metrics: \n",
        "\n",
        "* MRRMetric\n",
        "* FunctionalBatchMetric\n",
        "* TopKMetric\n",
        "\n",
        "\n",
        "If you are not able to implement these metrics, explain why and how you would implement them? "
      ]
    }
  ],
  "metadata": {
    "kernelspec": {
      "display_name": "Python 3 (ipykernel)",
      "language": "python",
      "name": "python3"
    },
    "language_info": {
      "codemirror_mode": {
        "name": "ipython",
        "version": 3
      },
      "file_extension": ".py",
      "mimetype": "text/x-python",
      "name": "python",
      "nbconvert_exporter": "python",
      "pygments_lexer": "ipython3",
      "version": "3.9.7"
    },
    "colab": {
      "name": "model-fit-metrics.ipynb",
      "provenance": []
    }
  },
  "nbformat": 4,
  "nbformat_minor": 0
}
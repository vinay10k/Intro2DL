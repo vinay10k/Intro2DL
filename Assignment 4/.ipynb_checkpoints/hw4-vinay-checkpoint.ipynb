{
 "cells": [
  {
   "cell_type": "code",
   "execution_count": null,
   "metadata": {
    "_cell_guid": "b1076dfc-b9ad-4769-8c92-a6c4dae69d19",
    "_uuid": "8f2839f25d086af736a60e9eeb907d3b93b6e0e5"
   },
   "outputs": [],
   "source": [
    "# This Python 3 environment comes with many helpful analytics libraries installed\n",
    "# It is defined by the kaggle/python Docker image: https://github.com/kaggle/docker-python\n",
    "# For example, here's several helpful packages to load\n",
    "\n",
    "import numpy as np # linear algebra\n",
    "import pandas as pd # data processing, CSV file I/O (e.g. pd.read_csv)\n",
    "\n",
    "# Input data files are available in the read-only \"../input/\" directory\n",
    "# For example, running this (by clicking run or pressing Shift+Enter) will list all files under the input directory\n",
    "\n",
    "import os\n",
    "for dirname, _, filenames in os.walk('/kaggle/input'):\n",
    "    for filename in filenames:\n",
    "        print(os.path.join(dirname, filename))\n",
    "\n",
    "# You can write up to 20GB to the current directory (/kaggle/working/) that gets preserved as output when you create a version using \"Save & Run All\" \n",
    "# You can also write temporary files to /kaggle/temp/, but they won't be saved outside of the current session"
   ]
  },
  {
   "cell_type": "code",
   "execution_count": 1,
   "metadata": {
    "execution": {
     "iopub.execute_input": "2022-03-29T03:28:33.303048Z",
     "iopub.status.busy": "2022-03-29T03:28:33.302317Z",
     "iopub.status.idle": "2022-03-29T03:28:38.746385Z",
     "shell.execute_reply": "2022-03-29T03:28:38.745622Z",
     "shell.execute_reply.started": "2022-03-29T03:28:33.302950Z"
    }
   },
   "outputs": [],
   "source": [
    "import matplotlib.pyplot as plt\n",
    "%matplotlib inline\n",
    "import random\n",
    "import tensorflow as tf\n",
    "import os\n",
    "from tensorflow import keras\n",
    "from tensorflow.keras import layers\n",
    "from tensorflow.keras import layers,mixed_precision\n"
   ]
  },
  {
   "cell_type": "code",
   "execution_count": 2,
   "metadata": {
    "execution": {
     "iopub.execute_input": "2022-03-29T03:28:38.748419Z",
     "iopub.status.busy": "2022-03-29T03:28:38.748148Z",
     "iopub.status.idle": "2022-03-29T03:28:38.755705Z",
     "shell.execute_reply": "2022-03-29T03:28:38.754803Z",
     "shell.execute_reply.started": "2022-03-29T03:28:38.748382Z"
    }
   },
   "outputs": [],
   "source": [
    "train_dir='../input/csc4851-homework4/birds_400/train'\n",
    "val_dir='../input//csc4851-homework4/birds_400/valid'\n",
    "test_dir='../input/csc4851-homework4/birds_400/test'"
   ]
  },
  {
   "cell_type": "code",
   "execution_count": 3,
   "metadata": {
    "execution": {
     "iopub.execute_input": "2022-03-29T03:28:38.758229Z",
     "iopub.status.busy": "2022-03-29T03:28:38.757852Z",
     "iopub.status.idle": "2022-03-29T03:28:38.776630Z",
     "shell.execute_reply": "2022-03-29T03:28:38.775969Z",
     "shell.execute_reply.started": "2022-03-29T03:28:38.758191Z"
    }
   },
   "outputs": [],
   "source": [
    "def plot_random_image(target_dir):\n",
    "    \"\"\"\n",
    "    takes the directory as input and prints 5 random images from the randomly choosen class.\n",
    "    \"\"\"\n",
    "    target_class=random.choice(os.listdir(target_dir))\n",
    "    target_folder=os.path.join(target_dir,target_class)\n",
    "    random_image=random.sample(os.listdir(target_folder),5)\n",
    " \n",
    "    plt.figure(figsize=(32,10))\n",
    "    for i in range(5):\n",
    "        \n",
    "        plt.subplot(1,5,i+1)\n",
    "        img=tf.io.read_file(os.path.join(target_folder,random_image[i]))\n",
    "        img=tf.io.decode_image(img)\n",
    "        plt.imshow(img)\n",
    "        plt.title(f'{target_class}\\n{img.shape}')\n",
    "        plt.axis(False)"
   ]
  },
  {
   "cell_type": "code",
   "execution_count": 4,
   "metadata": {
    "execution": {
     "iopub.execute_input": "2022-03-29T03:28:38.779902Z",
     "iopub.status.busy": "2022-03-29T03:28:38.779622Z",
     "iopub.status.idle": "2022-03-29T03:28:41.870028Z",
     "shell.execute_reply": "2022-03-29T03:28:41.869379Z",
     "shell.execute_reply.started": "2022-03-29T03:28:38.779873Z"
    }
   },
   "outputs": [],
   "source": [
    "plot_random_image(train_dir)"
   ]
  },
  {
   "cell_type": "code",
   "execution_count": 5,
   "metadata": {
    "execution": {
     "iopub.execute_input": "2022-03-29T03:28:41.871192Z",
     "iopub.status.busy": "2022-03-29T03:28:41.870964Z",
     "iopub.status.idle": "2022-03-29T03:28:47.215380Z",
     "shell.execute_reply": "2022-03-29T03:28:47.214596Z",
     "shell.execute_reply.started": "2022-03-29T03:28:41.871162Z"
    }
   },
   "outputs": [],
   "source": [
    "IMAGE_SIZE=(224,224)\n",
    "\n",
    "train_data=tf.keras.preprocessing.image_dataset_from_directory(\n",
    "    train_dir,\n",
    "    label_mode='categorical',\n",
    "    image_size=IMAGE_SIZE\n",
    ")\n",
    "class_names=train_data.class_names\n",
    "num_classes=len(class_names)\n",
    "val_data=tf.keras.preprocessing.image_dataset_from_directory(\n",
    "    val_dir,\n",
    "    label_mode='categorical',\n",
    "    image_size=IMAGE_SIZE,\n",
    "    \n",
    ")\n",
    "test_data=tf.keras.preprocessing.image_dataset_from_directory(\n",
    "    test_dir,\n",
    "    label_mode='categorical',\n",
    "    image_size=IMAGE_SIZE,\n",
    "    shuffle=False\n",
    ")\n",
    "\n",
    "train_data_pf=train_data.prefetch(buffer_size=tf.data.AUTOTUNE)\n",
    "val_data_pf=val_data.prefetch(buffer_size=tf.data.AUTOTUNE)\n",
    "test_data_pf=test_data.prefetch(buffer_size=tf.data.AUTOTUNE)"
   ]
  },
  {
   "cell_type": "code",
   "execution_count": 6,
   "metadata": {
    "execution": {
     "iopub.execute_input": "2022-03-29T03:28:47.217349Z",
     "iopub.status.busy": "2022-03-29T03:28:47.216612Z",
     "iopub.status.idle": "2022-03-29T03:28:47.248797Z",
     "shell.execute_reply": "2022-03-29T03:28:47.248100Z",
     "shell.execute_reply.started": "2022-03-29T03:28:47.217309Z"
    }
   },
   "outputs": [],
   "source": [
    "data_augmentation=keras.Sequential([\n",
    "    layers.RandomFlip('horizontal'),\n",
    "    layers.RandomRotation(0.2,fill_mode='nearest'),\n",
    "    # layers.Rescaling(scale=1.0/255)\n",
    "],name='Data_Augmentation_Layer')"
   ]
  },
  {
   "cell_type": "code",
   "execution_count": 50,
   "metadata": {
    "execution": {
     "iopub.execute_input": "2022-03-29T03:44:24.802023Z",
     "iopub.status.busy": "2022-03-29T03:44:24.801244Z",
     "iopub.status.idle": "2022-03-29T03:44:28.545107Z",
     "shell.execute_reply": "2022-03-29T03:44:28.544428Z",
     "shell.execute_reply.started": "2022-03-29T03:44:24.801969Z"
    }
   },
   "outputs": [],
   "source": [
    "mixed_precision.set_global_policy('mixed_float16')\n",
    "\n",
    "inputs=layers.Input(shape=(224,224,3),name='input_layer')\n",
    "\n",
    "base_model=keras.applications.efficientnet.EfficientNetB0(include_top=False, weights = \"imagenet\")\n",
    "base_model.trainable=False\n",
    "\n",
    "x=data_augmentation(inputs)\n",
    "\n",
    "x=base_model(x,training=False)\n",
    "\n",
    "x=layers.GlobalAveragePooling2D(name='Global_Average_Pool_2D')(x)\n",
    "num_classes=len(train_data.class_names)\n",
    "outputs=layers.Dense(num_classes,activation='softmax',dtype=tf.float32,name=\"Output_layer\")(x)\n",
    "\n",
    "model=keras.Model(inputs,outputs,name=\"model\")"
   ]
  },
  {
   "cell_type": "code",
   "execution_count": 51,
   "metadata": {
    "execution": {
     "iopub.execute_input": "2022-03-29T03:44:28.547069Z",
     "iopub.status.busy": "2022-03-29T03:44:28.546804Z",
     "iopub.status.idle": "2022-03-29T03:44:28.560870Z",
     "shell.execute_reply": "2022-03-29T03:44:28.560249Z",
     "shell.execute_reply.started": "2022-03-29T03:44:28.547036Z"
    }
   },
   "outputs": [],
   "source": [
    "model.compile(\n",
    "    loss=keras.losses.categorical_crossentropy,\n",
    "    optimizer=keras.optimizers.Adam(),\n",
    "    metrics=['accuracy']\n",
    ")"
   ]
  },
  {
   "cell_type": "code",
   "execution_count": 52,
   "metadata": {
    "execution": {
     "iopub.execute_input": "2022-03-29T03:44:29.369158Z",
     "iopub.status.busy": "2022-03-29T03:44:29.368385Z",
     "iopub.status.idle": "2022-03-29T03:44:29.388515Z",
     "shell.execute_reply": "2022-03-29T03:44:29.387765Z",
     "shell.execute_reply.started": "2022-03-29T03:44:29.369110Z"
    }
   },
   "outputs": [],
   "source": [
    "model.summary()"
   ]
  },
  {
   "cell_type": "code",
   "execution_count": 53,
   "metadata": {
    "execution": {
     "iopub.execute_input": "2022-03-29T03:44:31.160622Z",
     "iopub.status.busy": "2022-03-29T03:44:31.159920Z",
     "iopub.status.idle": "2022-03-29T03:46:30.285871Z",
     "shell.execute_reply": "2022-03-29T03:46:30.285138Z",
     "shell.execute_reply.started": "2022-03-29T03:44:31.160584Z"
    }
   },
   "outputs": [],
   "source": [
    "EPOCHS=15\n",
    "history_of_model=model.fit(\n",
    "    train_data_pf,\n",
    "    epochs=EPOCHS,\n",
    "    steps_per_epoch=int (0.1*len(train_data_pf)),\n",
    "    validation_data=val_data_pf,\n",
    "    validation_steps=len(val_data_pf)    \n",
    ")"
   ]
  },
  {
   "cell_type": "code",
   "execution_count": 54,
   "metadata": {
    "execution": {
     "iopub.execute_input": "2022-03-29T03:46:30.289177Z",
     "iopub.status.busy": "2022-03-29T03:46:30.288984Z",
     "iopub.status.idle": "2022-03-29T03:46:33.328551Z",
     "shell.execute_reply": "2022-03-29T03:46:33.327771Z",
     "shell.execute_reply.started": "2022-03-29T03:46:30.289153Z"
    }
   },
   "outputs": [],
   "source": [
    "model_0_result=model.evaluate(test_data_pf)\n",
    "model_0_result"
   ]
  },
  {
   "cell_type": "code",
   "execution_count": 55,
   "metadata": {
    "execution": {
     "iopub.execute_input": "2022-03-29T03:46:33.330016Z",
     "iopub.status.busy": "2022-03-29T03:46:33.329739Z",
     "iopub.status.idle": "2022-03-29T03:46:36.854845Z",
     "shell.execute_reply": "2022-03-29T03:46:36.854093Z",
     "shell.execute_reply.started": "2022-03-29T03:46:33.329981Z"
    }
   },
   "outputs": [],
   "source": [
    "y_prob = model.predict(test_data_pf) \n",
    "y_pred = y_prob.argmax(axis=-1)"
   ]
  },
  {
   "cell_type": "code",
   "execution_count": 13,
   "metadata": {
    "execution": {
     "iopub.execute_input": "2022-03-29T03:32:27.311673Z",
     "iopub.status.busy": "2022-03-29T03:32:27.311465Z",
     "iopub.status.idle": "2022-03-29T03:32:27.317869Z",
     "shell.execute_reply": "2022-03-29T03:32:27.317111Z",
     "shell.execute_reply.started": "2022-03-29T03:32:27.311648Z"
    }
   },
   "outputs": [],
   "source": [
    "y_pred[400:450]"
   ]
  },
  {
   "cell_type": "code",
   "execution_count": 14,
   "metadata": {
    "execution": {
     "iopub.execute_input": "2022-03-29T03:32:27.319951Z",
     "iopub.status.busy": "2022-03-29T03:32:27.319360Z",
     "iopub.status.idle": "2022-03-29T03:32:27.329617Z",
     "shell.execute_reply": "2022-03-29T03:32:27.328829Z",
     "shell.execute_reply.started": "2022-03-29T03:32:27.319898Z"
    }
   },
   "outputs": [],
   "source": [
    "def plot_loss_curves(history):\n",
    "    \n",
    "    '''\n",
    "      returns seperate loss curves for training and validation metrics\n",
    "    '''\n",
    "    train_loss=history.history['loss']\n",
    "    val_loss=history.history['val_loss']\n",
    "\n",
    "    train_accuracy=history.history['accuracy']\n",
    "    val_accuracy=history.history['val_accuracy']\n",
    "\n",
    "    epochs=range(1,len(history.history['loss'])+1)\n",
    "    plt.figure(figsize=(20,7))\n",
    "  # plot loss data\n",
    "    plt.subplot(1,2,1)\n",
    "    plt.plot(epochs,train_loss,label=\"training_loss\")\n",
    "    plt.plot(epochs,val_loss,label=\"validation_loss\")\n",
    "    plt.title(\"Loss curves\")\n",
    "    plt.xlabel('epochs')\n",
    "    plt.ylabel('loss')\n",
    "    plt.legend()\n",
    "  # plt.show()\n",
    "\n",
    "  # plot accuracy data\n",
    "    plt.subplot(1,2,2)\n",
    "    plt.plot(epochs,train_accuracy,label=\"training_acc\")\n",
    "    plt.plot(epochs,val_accuracy,label=\"validation_acc\")\n",
    "    plt.title(\"Accuracy curves\")\n",
    "    plt.xlabel('epochs')\n",
    "    plt.ylabel('Accuracy')\n",
    "    plt.legend()"
   ]
  },
  {
   "cell_type": "code",
   "execution_count": 56,
   "metadata": {
    "execution": {
     "iopub.execute_input": "2022-03-29T03:46:36.858237Z",
     "iopub.status.busy": "2022-03-29T03:46:36.857799Z",
     "iopub.status.idle": "2022-03-29T03:46:37.218388Z",
     "shell.execute_reply": "2022-03-29T03:46:37.217687Z",
     "shell.execute_reply.started": "2022-03-29T03:46:36.858199Z"
    }
   },
   "outputs": [],
   "source": [
    "plot_loss_curves(history_of_model)"
   ]
  },
  {
   "cell_type": "code",
   "execution_count": 16,
   "metadata": {
    "execution": {
     "iopub.execute_input": "2022-03-29T03:32:27.695247Z",
     "iopub.status.busy": "2022-03-29T03:32:27.694991Z",
     "iopub.status.idle": "2022-03-29T03:32:37.046120Z",
     "shell.execute_reply": "2022-03-29T03:32:37.045369Z",
     "shell.execute_reply.started": "2022-03-29T03:32:27.695212Z"
    }
   },
   "outputs": [],
   "source": [
    "mixed_precision.set_global_policy('mixed_float16')\n",
    "\n",
    "inputs=layers.Input(shape=(224,224,3),name='input_layer')\n",
    "\n",
    "base_model=keras.applications.InceptionResNetV2(include_top=False, weights = \"imagenet\")\n",
    "base_model.trainable=False\n",
    "\n",
    "x=data_augmentation(inputs)\n",
    "x = tf.keras.applications.mobilenet.preprocess_input(x)\n",
    "\n",
    "x=base_model(x,training=False)\n",
    "\n",
    "x=layers.GlobalAveragePooling2D(name='Global_Average_Pool_2D')(x)\n",
    "num_classes=len(train_data.class_names)\n",
    "outputs=layers.Dense(num_classes,activation='softmax',dtype=tf.float32,name=\"Output_layer\")(x)\n",
    "\n",
    "model=keras.Model(inputs,outputs,name=\"model\")\n",
    "\n"
   ]
  },
  {
   "cell_type": "code",
   "execution_count": 17,
   "metadata": {
    "execution": {
     "iopub.execute_input": "2022-03-29T03:32:37.047649Z",
     "iopub.status.busy": "2022-03-29T03:32:37.047422Z",
     "iopub.status.idle": "2022-03-29T03:32:37.070067Z",
     "shell.execute_reply": "2022-03-29T03:32:37.069244Z",
     "shell.execute_reply.started": "2022-03-29T03:32:37.047618Z"
    }
   },
   "outputs": [],
   "source": [
    "model.compile(\n",
    "    loss=keras.losses.categorical_crossentropy,\n",
    "    optimizer=keras.optimizers.Adam(),\n",
    "    metrics=['accuracy']\n",
    ")"
   ]
  },
  {
   "cell_type": "code",
   "execution_count": 18,
   "metadata": {
    "execution": {
     "iopub.execute_input": "2022-03-29T03:32:37.071563Z",
     "iopub.status.busy": "2022-03-29T03:32:37.071211Z",
     "iopub.status.idle": "2022-03-29T03:32:37.277945Z",
     "shell.execute_reply": "2022-03-29T03:32:37.277216Z",
     "shell.execute_reply.started": "2022-03-29T03:32:37.071525Z"
    }
   },
   "outputs": [],
   "source": [
    "model.summary()"
   ]
  },
  {
   "cell_type": "code",
   "execution_count": 19,
   "metadata": {
    "execution": {
     "iopub.execute_input": "2022-03-29T03:32:37.279443Z",
     "iopub.status.busy": "2022-03-29T03:32:37.279125Z",
     "iopub.status.idle": "2022-03-29T03:38:03.545762Z",
     "shell.execute_reply": "2022-03-29T03:38:03.545059Z",
     "shell.execute_reply.started": "2022-03-29T03:32:37.279406Z"
    }
   },
   "outputs": [],
   "source": [
    "EPOCHS=10\n",
    "history_of_model=model.fit(\n",
    "    train_data_pf,\n",
    "    epochs=EPOCHS,\n",
    "    steps_per_epoch=int (0.1*len(train_data_pf)),\n",
    "    validation_data=val_data_pf,\n",
    "    validation_steps=len(val_data_pf)    \n",
    ")"
   ]
  },
  {
   "cell_type": "code",
   "execution_count": 20,
   "metadata": {
    "execution": {
     "iopub.execute_input": "2022-03-29T03:38:03.547541Z",
     "iopub.status.busy": "2022-03-29T03:38:03.547282Z",
     "iopub.status.idle": "2022-03-29T03:38:13.823355Z",
     "shell.execute_reply": "2022-03-29T03:38:13.822671Z",
     "shell.execute_reply.started": "2022-03-29T03:38:03.547510Z"
    }
   },
   "outputs": [],
   "source": [
    "model_0_result=model.evaluate(test_data_pf)\n",
    "model_0_result"
   ]
  },
  {
   "cell_type": "code",
   "execution_count": 21,
   "metadata": {
    "execution": {
     "iopub.execute_input": "2022-03-29T03:38:13.824981Z",
     "iopub.status.busy": "2022-03-29T03:38:13.824719Z",
     "iopub.status.idle": "2022-03-29T03:38:14.186207Z",
     "shell.execute_reply": "2022-03-29T03:38:14.185508Z",
     "shell.execute_reply.started": "2022-03-29T03:38:13.824946Z"
    }
   },
   "outputs": [],
   "source": [
    "plot_loss_curves(history_of_model)"
   ]
  },
  {
   "cell_type": "code",
   "execution_count": 22,
   "metadata": {
    "execution": {
     "iopub.execute_input": "2022-03-29T03:38:14.190926Z",
     "iopub.status.busy": "2022-03-29T03:38:14.190302Z",
     "iopub.status.idle": "2022-03-29T03:38:24.233444Z",
     "shell.execute_reply": "2022-03-29T03:38:24.232709Z",
     "shell.execute_reply.started": "2022-03-29T03:38:14.190885Z"
    }
   },
   "outputs": [],
   "source": [
    "mixed_precision.set_global_policy('mixed_float16')\n",
    "\n",
    "inputs=layers.Input(shape=(224,224,3),name='input_layer')\n",
    "\n",
    "base_model=keras.applications.efficientnet.EfficientNetB7(include_top=False, weights = \"imagenet\")\n",
    "base_model.trainable=False\n",
    "\n",
    "x=data_augmentation(inputs)\n",
    "\n",
    "x=base_model(x,training=False)\n",
    "\n",
    "x=layers.GlobalAveragePooling2D(name='Global_Average_Pool_2D')(x)\n",
    "num_classes=len(train_data.class_names)\n",
    "outputs=layers.Dense(num_classes,activation='softmax',dtype=tf.float32,name=\"Output_layer\")(x)\n",
    "\n",
    "model=keras.Model(inputs,outputs,name=\"model\")"
   ]
  },
  {
   "cell_type": "code",
   "execution_count": 23,
   "metadata": {
    "execution": {
     "iopub.execute_input": "2022-03-29T03:38:24.234956Z",
     "iopub.status.busy": "2022-03-29T03:38:24.234707Z",
     "iopub.status.idle": "2022-03-29T03:38:24.256166Z",
     "shell.execute_reply": "2022-03-29T03:38:24.255290Z",
     "shell.execute_reply.started": "2022-03-29T03:38:24.234907Z"
    }
   },
   "outputs": [],
   "source": [
    "model.compile(\n",
    "    loss=keras.losses.categorical_crossentropy,\n",
    "    optimizer=keras.optimizers.Adam(),\n",
    "    metrics=['accuracy']\n",
    ")"
   ]
  },
  {
   "cell_type": "code",
   "execution_count": 24,
   "metadata": {
    "execution": {
     "iopub.execute_input": "2022-03-29T03:38:24.257616Z",
     "iopub.status.busy": "2022-03-29T03:38:24.257305Z",
     "iopub.status.idle": "2022-03-29T03:38:24.317129Z",
     "shell.execute_reply": "2022-03-29T03:38:24.314627Z",
     "shell.execute_reply.started": "2022-03-29T03:38:24.257579Z"
    }
   },
   "outputs": [],
   "source": [
    "model.summary()"
   ]
  },
  {
   "cell_type": "code",
   "execution_count": 25,
   "metadata": {
    "execution": {
     "iopub.execute_input": "2022-03-29T03:38:24.319294Z",
     "iopub.status.busy": "2022-03-29T03:38:24.318758Z",
     "iopub.status.idle": "2022-03-29T03:42:34.789406Z",
     "shell.execute_reply": "2022-03-29T03:42:34.788614Z",
     "shell.execute_reply.started": "2022-03-29T03:38:24.319252Z"
    }
   },
   "outputs": [],
   "source": [
    "EPOCHS=5\n",
    "history_of_model=model.fit(\n",
    "    train_data_pf,\n",
    "    epochs=EPOCHS,\n",
    "    steps_per_epoch=int (0.1*len(train_data_pf)),\n",
    "    validation_data=val_data_pf,\n",
    "    validation_steps=len(val_data_pf)    \n",
    ")"
   ]
  },
  {
   "cell_type": "code",
   "execution_count": 26,
   "metadata": {
    "execution": {
     "iopub.execute_input": "2022-03-29T03:42:34.791139Z",
     "iopub.status.busy": "2022-03-29T03:42:34.790839Z",
     "iopub.status.idle": "2022-03-29T03:42:46.151461Z",
     "shell.execute_reply": "2022-03-29T03:42:46.150785Z",
     "shell.execute_reply.started": "2022-03-29T03:42:34.791100Z"
    }
   },
   "outputs": [],
   "source": [
    "model_0_result=model.evaluate(test_data_pf)\n",
    "model_0_result"
   ]
  },
  {
   "cell_type": "code",
   "execution_count": 27,
   "metadata": {
    "execution": {
     "iopub.execute_input": "2022-03-29T03:42:46.153017Z",
     "iopub.status.busy": "2022-03-29T03:42:46.152672Z",
     "iopub.status.idle": "2022-03-29T03:42:46.555890Z",
     "shell.execute_reply": "2022-03-29T03:42:46.555256Z",
     "shell.execute_reply.started": "2022-03-29T03:42:46.152979Z"
    }
   },
   "outputs": [],
   "source": [
    "plot_loss_curves(history_of_model)"
   ]
  },
  {
   "cell_type": "code",
   "execution_count": 28,
   "metadata": {
    "execution": {
     "iopub.execute_input": "2022-03-29T03:42:46.557484Z",
     "iopub.status.busy": "2022-03-29T03:42:46.557129Z",
     "iopub.status.idle": "2022-03-29T03:42:48.715574Z",
     "shell.execute_reply": "2022-03-29T03:42:48.714876Z",
     "shell.execute_reply.started": "2022-03-29T03:42:46.557442Z"
    }
   },
   "outputs": [],
   "source": [
    "mixed_precision.set_global_policy('mixed_float16')\n",
    "\n",
    "inputs=layers.Input(shape=(224,224,3),name='input_layer')\n",
    "\n",
    "base_model=keras.applications.efficientnet.EfficientNetB0(include_top=False, weights = \"imagenet\")\n",
    "base_model.trainable=False\n",
    "\n",
    "x=data_augmentation(inputs)\n",
    "\n",
    "x=base_model(x,training=False)\n",
    "\n",
    "x=layers.GlobalAveragePooling2D(name='Global_Average_Pool_2D')(x)\n",
    "num_classes=len(train_data.class_names)\n",
    "outputs=layers.Dense(num_classes,activation='softmax',dtype=tf.float32,name=\"Output_layer\")(x)\n",
    "\n",
    "model=keras.Model(inputs,outputs,name=\"model\")"
   ]
  },
  {
   "cell_type": "code",
   "execution_count": 29,
   "metadata": {
    "execution": {
     "iopub.execute_input": "2022-03-29T03:42:48.717377Z",
     "iopub.status.busy": "2022-03-29T03:42:48.717092Z",
     "iopub.status.idle": "2022-03-29T03:43:49.573353Z",
     "shell.execute_reply": "2022-03-29T03:43:49.572669Z",
     "shell.execute_reply.started": "2022-03-29T03:42:48.717328Z"
    }
   },
   "outputs": [],
   "source": [
    "model.compile(\n",
    "    loss=keras.losses.categorical_crossentropy,\n",
    "    optimizer=keras.optimizers.SGD(learning_rate=0.01, momentum=0.5),\n",
    "    metrics=['accuracy']\n",
    ")\n",
    "\n",
    "model.summary()\n",
    "\n",
    "EPOCHS=5\n",
    "history_of_model=model.fit(\n",
    "    train_data_pf,\n",
    "    epochs=EPOCHS,\n",
    "    steps_per_epoch=int (0.1*len(train_data_pf)),\n",
    "    validation_data=val_data_pf,\n",
    "    validation_steps=len(val_data_pf)    \n",
    ")"
   ]
  },
  {
   "cell_type": "code",
   "execution_count": 30,
   "metadata": {
    "execution": {
     "iopub.execute_input": "2022-03-29T03:43:49.575386Z",
     "iopub.status.busy": "2022-03-29T03:43:49.574555Z",
     "iopub.status.idle": "2022-03-29T03:43:52.799911Z",
     "shell.execute_reply": "2022-03-29T03:43:52.799200Z",
     "shell.execute_reply.started": "2022-03-29T03:43:49.575346Z"
    }
   },
   "outputs": [],
   "source": [
    "model_0_result=model.evaluate(test_data_pf)\n",
    "model_0_result"
   ]
  },
  {
   "cell_type": "code",
   "execution_count": 31,
   "metadata": {
    "execution": {
     "iopub.execute_input": "2022-03-29T03:43:52.802748Z",
     "iopub.status.busy": "2022-03-29T03:43:52.802552Z",
     "iopub.status.idle": "2022-03-29T03:43:53.202453Z",
     "shell.execute_reply": "2022-03-29T03:43:53.201797Z",
     "shell.execute_reply.started": "2022-03-29T03:43:52.802722Z"
    }
   },
   "outputs": [],
   "source": [
    "plot_loss_curves(history_of_model)"
   ]
  },
  {
   "cell_type": "code",
   "execution_count": 32,
   "metadata": {
    "execution": {
     "iopub.execute_input": "2022-03-29T03:43:53.205124Z",
     "iopub.status.busy": "2022-03-29T03:43:53.203565Z",
     "iopub.status.idle": "2022-03-29T03:43:56.628926Z",
     "shell.execute_reply": "2022-03-29T03:43:56.628176Z",
     "shell.execute_reply.started": "2022-03-29T03:43:53.205081Z"
    }
   },
   "outputs": [],
   "source": [
    "y_prob = model.predict(test_data_pf) \n",
    "y_pred = y_prob.argmax(axis=-1)"
   ]
  },
  {
   "cell_type": "code",
   "execution_count": 57,
   "metadata": {
    "execution": {
     "iopub.execute_input": "2022-03-29T03:46:37.220173Z",
     "iopub.status.busy": "2022-03-29T03:46:37.219731Z",
     "iopub.status.idle": "2022-03-29T03:46:37.224757Z",
     "shell.execute_reply": "2022-03-29T03:46:37.223643Z",
     "shell.execute_reply.started": "2022-03-29T03:46:37.220129Z"
    }
   },
   "outputs": [],
   "source": [
    "import pandas as pd"
   ]
  },
  {
   "cell_type": "code",
   "execution_count": 58,
   "metadata": {
    "execution": {
     "iopub.execute_input": "2022-03-29T03:46:37.226828Z",
     "iopub.status.busy": "2022-03-29T03:46:37.226391Z",
     "iopub.status.idle": "2022-03-29T03:46:37.301368Z",
     "shell.execute_reply": "2022-03-29T03:46:37.300575Z",
     "shell.execute_reply.started": "2022-03-29T03:46:37.226789Z"
    }
   },
   "outputs": [],
   "source": [
    "df = pd.read_csv('../input/csc4851-homework4/birds_400/birds.csv')"
   ]
  },
  {
   "cell_type": "code",
   "execution_count": 59,
   "metadata": {
    "execution": {
     "iopub.execute_input": "2022-03-29T03:46:37.303135Z",
     "iopub.status.busy": "2022-03-29T03:46:37.302846Z",
     "iopub.status.idle": "2022-03-29T03:46:37.316624Z",
     "shell.execute_reply": "2022-03-29T03:46:37.315785Z",
     "shell.execute_reply.started": "2022-03-29T03:46:37.303097Z"
    }
   },
   "outputs": [],
   "source": [
    "rslt_df = df[df['data set'] == 'test']"
   ]
  },
  {
   "cell_type": "code",
   "execution_count": 60,
   "metadata": {
    "execution": {
     "iopub.execute_input": "2022-03-29T03:46:37.318907Z",
     "iopub.status.busy": "2022-03-29T03:46:37.318318Z",
     "iopub.status.idle": "2022-03-29T03:46:37.335984Z",
     "shell.execute_reply": "2022-03-29T03:46:37.335111Z",
     "shell.execute_reply.started": "2022-03-29T03:46:37.318865Z"
    }
   },
   "outputs": [],
   "source": [
    "rslt_df"
   ]
  },
  {
   "cell_type": "code",
   "execution_count": 61,
   "metadata": {
    "execution": {
     "iopub.execute_input": "2022-03-29T03:46:37.338014Z",
     "iopub.status.busy": "2022-03-29T03:46:37.337537Z",
     "iopub.status.idle": "2022-03-29T03:46:37.344712Z",
     "shell.execute_reply": "2022-03-29T03:46:37.343792Z",
     "shell.execute_reply.started": "2022-03-29T03:46:37.337975Z"
    }
   },
   "outputs": [],
   "source": [
    "index = rslt_df['class index']\n",
    "y_actual = index.to_numpy()"
   ]
  },
  {
   "cell_type": "code",
   "execution_count": 62,
   "metadata": {
    "execution": {
     "iopub.execute_input": "2022-03-29T03:46:37.348538Z",
     "iopub.status.busy": "2022-03-29T03:46:37.348194Z",
     "iopub.status.idle": "2022-03-29T03:46:37.354725Z",
     "shell.execute_reply": "2022-03-29T03:46:37.353927Z",
     "shell.execute_reply.started": "2022-03-29T03:46:37.348499Z"
    }
   },
   "outputs": [],
   "source": [
    "import numpy as np"
   ]
  },
  {
   "cell_type": "code",
   "execution_count": 63,
   "metadata": {
    "execution": {
     "iopub.execute_input": "2022-03-29T03:46:37.356443Z",
     "iopub.status.busy": "2022-03-29T03:46:37.356029Z",
     "iopub.status.idle": "2022-03-29T03:46:37.363269Z",
     "shell.execute_reply": "2022-03-29T03:46:37.362376Z",
     "shell.execute_reply.started": "2022-03-29T03:46:37.356405Z"
    }
   },
   "outputs": [],
   "source": [
    "y_actual = y_actual.astype('float64')\n",
    "y_pred = y_pred.astype('float64')"
   ]
  },
  {
   "cell_type": "code",
   "execution_count": 64,
   "metadata": {
    "execution": {
     "iopub.execute_input": "2022-03-29T03:46:37.365134Z",
     "iopub.status.busy": "2022-03-29T03:46:37.364642Z",
     "iopub.status.idle": "2022-03-29T03:46:37.374560Z",
     "shell.execute_reply": "2022-03-29T03:46:37.373854Z",
     "shell.execute_reply.started": "2022-03-29T03:46:37.365096Z"
    }
   },
   "outputs": [],
   "source": [
    "y_pred.dtype\n",
    "y_actual.dtype"
   ]
  },
  {
   "cell_type": "code",
   "execution_count": 65,
   "metadata": {
    "execution": {
     "iopub.execute_input": "2022-03-29T03:46:37.376404Z",
     "iopub.status.busy": "2022-03-29T03:46:37.375975Z",
     "iopub.status.idle": "2022-03-29T03:46:37.382701Z",
     "shell.execute_reply": "2022-03-29T03:46:37.381667Z",
     "shell.execute_reply.started": "2022-03-29T03:46:37.376337Z"
    }
   },
   "outputs": [],
   "source": [
    "y_prob = y_prob.astype('float64')"
   ]
  },
  {
   "cell_type": "code",
   "execution_count": 66,
   "metadata": {
    "execution": {
     "iopub.execute_input": "2022-03-29T03:46:37.384614Z",
     "iopub.status.busy": "2022-03-29T03:46:37.384166Z",
     "iopub.status.idle": "2022-03-29T03:46:37.391126Z",
     "shell.execute_reply": "2022-03-29T03:46:37.390303Z",
     "shell.execute_reply.started": "2022-03-29T03:46:37.384573Z"
    }
   },
   "outputs": [],
   "source": [
    "from tensorflow.keras.utils import to_categorical\n",
    "encoded = to_categorical(y_actual)"
   ]
  },
  {
   "cell_type": "code",
   "execution_count": 67,
   "metadata": {
    "execution": {
     "iopub.execute_input": "2022-03-29T03:46:37.393200Z",
     "iopub.status.busy": "2022-03-29T03:46:37.392886Z",
     "iopub.status.idle": "2022-03-29T03:46:37.400635Z",
     "shell.execute_reply": "2022-03-29T03:46:37.399717Z",
     "shell.execute_reply.started": "2022-03-29T03:46:37.393163Z"
    }
   },
   "outputs": [],
   "source": [
    "encoded.shape"
   ]
  },
  {
   "cell_type": "code",
   "execution_count": 68,
   "metadata": {
    "execution": {
     "iopub.execute_input": "2022-03-29T03:46:37.402721Z",
     "iopub.status.busy": "2022-03-29T03:46:37.402392Z",
     "iopub.status.idle": "2022-03-29T03:46:37.409154Z",
     "shell.execute_reply": "2022-03-29T03:46:37.408335Z",
     "shell.execute_reply.started": "2022-03-29T03:46:37.402686Z"
    }
   },
   "outputs": [],
   "source": [
    "def log_loss_cal(encoded, y_prob, x,y):\n",
    "    counter = 0\n",
    "    res = 0\n",
    "    for act_row, pred_row in zip(encoded[x:y], y_prob[x:y]):\n",
    "        counter += 1    \n",
    "        for class_act, class_pred in zip(act_row, pred_row):\n",
    "            res += - class_act * np.log(class_pred)\n",
    "    return res/5"
   ]
  },
  {
   "cell_type": "code",
   "execution_count": 69,
   "metadata": {
    "execution": {
     "iopub.execute_input": "2022-03-29T03:46:37.410915Z",
     "iopub.status.busy": "2022-03-29T03:46:37.410445Z",
     "iopub.status.idle": "2022-03-29T03:46:41.274328Z",
     "shell.execute_reply": "2022-03-29T03:46:41.273585Z",
     "shell.execute_reply.started": "2022-03-29T03:46:37.410877Z"
    }
   },
   "outputs": [],
   "source": [
    "log_loss1 = []\n",
    "ID = []\n",
    "count = 0\n",
    "for i in range(0,2000,5):\n",
    "    x = i \n",
    "    y = i+5\n",
    "    ans = log_loss_cal(encoded, y_prob, x, y)\n",
    "    log_loss1.append(ans)\n",
    "    ID.append(count)\n",
    "    count += 1"
   ]
  },
  {
   "cell_type": "code",
   "execution_count": 70,
   "metadata": {
    "execution": {
     "iopub.execute_input": "2022-03-29T03:46:41.276016Z",
     "iopub.status.busy": "2022-03-29T03:46:41.275738Z",
     "iopub.status.idle": "2022-03-29T03:46:41.284375Z",
     "shell.execute_reply": "2022-03-29T03:46:41.283613Z",
     "shell.execute_reply.started": "2022-03-29T03:46:41.275981Z"
    }
   },
   "outputs": [],
   "source": [
    "sub = pd.DataFrame(ID,columns = ['id'])\n",
    "sub.head()"
   ]
  },
  {
   "cell_type": "code",
   "execution_count": 71,
   "metadata": {
    "execution": {
     "iopub.execute_input": "2022-03-29T03:46:41.286455Z",
     "iopub.status.busy": "2022-03-29T03:46:41.285913Z",
     "iopub.status.idle": "2022-03-29T03:46:41.298754Z",
     "shell.execute_reply": "2022-03-29T03:46:41.298136Z",
     "shell.execute_reply.started": "2022-03-29T03:46:41.286416Z"
    }
   },
   "outputs": [],
   "source": [
    "sub1 = pd.DataFrame(log_loss1,columns = ['birds'])\n",
    "sub1.head()"
   ]
  },
  {
   "cell_type": "code",
   "execution_count": 72,
   "metadata": {
    "execution": {
     "iopub.execute_input": "2022-03-29T03:46:41.300326Z",
     "iopub.status.busy": "2022-03-29T03:46:41.299918Z",
     "iopub.status.idle": "2022-03-29T03:46:41.311682Z",
     "shell.execute_reply": "2022-03-29T03:46:41.310992Z",
     "shell.execute_reply.started": "2022-03-29T03:46:41.300290Z"
    }
   },
   "outputs": [],
   "source": [
    "final = pd.concat([sub, sub1], axis=1)\n",
    "final.head(10)"
   ]
  },
  {
   "cell_type": "code",
   "execution_count": 73,
   "metadata": {
    "execution": {
     "iopub.execute_input": "2022-03-29T03:46:41.313406Z",
     "iopub.status.busy": "2022-03-29T03:46:41.312744Z",
     "iopub.status.idle": "2022-03-29T03:46:41.317900Z",
     "shell.execute_reply": "2022-03-29T03:46:41.317168Z",
     "shell.execute_reply.started": "2022-03-29T03:46:41.313377Z"
    }
   },
   "outputs": [],
   "source": [
    "final.shape"
   ]
  },
  {
   "cell_type": "code",
   "execution_count": 84,
   "metadata": {
    "execution": {
     "iopub.execute_input": "2022-03-29T01:06:34.097797Z",
     "iopub.status.busy": "2022-03-29T01:06:34.097547Z",
     "iopub.status.idle": "2022-03-29T01:06:34.105797Z",
     "shell.execute_reply": "2022-03-29T01:06:34.105136Z",
     "shell.execute_reply.started": "2022-03-29T01:06:34.097768Z"
    }
   },
   "outputs": [],
   "source": [
    "final.to_csv('sub2.csv', index=False)"
   ]
  },
  {
   "cell_type": "code",
   "execution_count": null,
   "metadata": {},
   "outputs": [],
   "source": []
  }
 ],
 "metadata": {
  "kernelspec": {
   "display_name": "Python 3 (ipykernel)",
   "language": "python",
   "name": "python3"
  },
  "language_info": {
   "codemirror_mode": {
    "name": "ipython",
    "version": 3
   },
   "file_extension": ".py",
   "mimetype": "text/x-python",
   "name": "python",
   "nbconvert_exporter": "python",
   "pygments_lexer": "ipython3",
   "version": "3.9.7"
  }
 },
 "nbformat": 4,
 "nbformat_minor": 4
}
